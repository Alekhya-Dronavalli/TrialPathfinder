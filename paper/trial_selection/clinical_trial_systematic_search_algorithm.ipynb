{
 "cells": [
  {
   "cell_type": "markdown",
   "metadata": {},
   "source": [
    "# Systematic clinical trial selection\n",
    "\n",
    "Author: Shemra Rizzo </br>\n",
    "\n",
    "Date Created: October 30, 2019\n",
    "> Objective: Read file downloaded from clinicaltrials.gov and apply additional filters to obtain the final selection of lung clinical trials for the Project Vector paper.  \n",
    "\n",
    "Updated: January 9, 2020\n",
    "> Clean up code, redesign filter's order. Finished Filter 1 and 2.\n",
    "\n",
    "Updated: January 14-16, 2020\n",
    "> Finished Filter 3\n",
    "> Exported file for ruishan to get the sample sizes per trial\n",
    "\n",
    "Updated: January 20, 2020\n",
    "> Finished final selection\n"
   ]
  },
  {
   "cell_type": "markdown",
   "metadata": {},
   "source": [
    "# Libraries"
   ]
  },
  {
   "cell_type": "code",
   "execution_count": 2,
   "metadata": {},
   "outputs": [],
   "source": [
    "import pandas as pd\n",
    "import numpy as np\n",
    "import itertools\n",
    "import re"
   ]
  },
  {
   "cell_type": "markdown",
   "metadata": {},
   "source": [
    "# Import and process approved drugs"
   ]
  },
  {
   "cell_type": "markdown",
   "metadata": {},
   "source": [
    "Non-small lung cancer approved drugs found in [National Cancer Institute](https://www.cancer.gov/about-cancer/treatment/drugs/lung)\n",
    "\n",
    "Generic names in parenthesis"
   ]
  },
  {
   "cell_type": "code",
   "execution_count": 3,
   "metadata": {},
   "outputs": [],
   "source": [
    "# Lung approved drugs as listed in National Cancer Institute website\n",
    "approved_drugs = '''\n",
    "Abraxane (Paclitaxel Albumin-stabilized Nanoparticle Formulation)\n",
    "Afatinib Dimaleate\n",
    "Afinitor (Everolimus)\n",
    "Afinitor Disperz (Everolimus)\n",
    "Alecensa (Alectinib)\n",
    "Alectinib\n",
    "Alimta (Pemetrexed Disodium)\n",
    "Alunbrig (Brigatinib)\n",
    "Atezolizumab\n",
    "Avastin (Bevacizumab)\n",
    "Bevacizumab\n",
    "Brigatinib\n",
    "Carboplatin\n",
    "Ceritinib\n",
    "Crizotinib\n",
    "Cyramza (Ramucirumab)\n",
    "Dabrafenib Mesylate\n",
    "Dacomitinib\n",
    "Docetaxel\n",
    "Doxorubicin Hydrochloride\n",
    "Durvalumab\n",
    "Entrectinib\n",
    "Erlotinib Hydrochloride\n",
    "Everolimus\n",
    "Gefitinib\n",
    "Gilotrif (Afatinib Dimaleate)\n",
    "Gemcitabine Hydrochloride\n",
    "Gemzar (Gemcitabine Hydrochloride)\n",
    "Imfinzi (Durvalumab)\n",
    "Iressa (Gefitinib)\n",
    "Keytruda (Pembrolizumab)\n",
    "Lorbrena (Lorlatinib)\n",
    "Lorlatinib\n",
    "Mechlorethamine Hydrochloride\n",
    "Mekinist (Trametinib)\n",
    "Methotrexate\n",
    "Mustargen (Mechlorethamine Hydrochloride)\n",
    "Mvasi (Bevacizumab)\n",
    "Navelbine (Vinorelbine Tartrate)\n",
    "Necitumumab\n",
    "Nivolumab\n",
    "Opdivo (Nivolumab)\n",
    "Osimertinib Mesylate\n",
    "Paclitaxel\n",
    "Paclitaxel Albumin-stabilized Nanoparticle Formulation\n",
    "Paraplat (Carboplatin)\n",
    "Paraplatin (Carboplatin)\n",
    "Pembrolizumab\n",
    "Pemetrexed Disodium\n",
    "Portrazza (Necitumumab)\n",
    "Ramucirumab\n",
    "Rozlytrek (Entrectinib)\n",
    "Tafinlar (Dabrafenib Mesylate)\n",
    "Tagrisso (Osimertinib Mesylate)\n",
    "Tarceva (Erlotinib Hydrochloride)\n",
    "Taxol (Paclitaxel)\n",
    "Taxotere (Docetaxel)\n",
    "Tecentriq (Atezolizumab)\n",
    "Trametinib\n",
    "Trexall (Methotrexate)\n",
    "Vizimpro (Dacomitinib)\n",
    "Vinorelbine Tartrate\n",
    "Xalkori (Crizotinib)\n",
    "Zykadia (Ceritinib)\n",
    "'''"
   ]
  },
  {
   "cell_type": "code",
   "execution_count": 4,
   "metadata": {},
   "outputs": [],
   "source": [
    "# Create a list of drugs, remove first and last entry which are empty\n",
    "approved_drugs = approved_drugs.split('\\n')[1:-1]"
   ]
  },
  {
   "cell_type": "code",
   "execution_count": 5,
   "metadata": {},
   "outputs": [],
   "source": [
    "# Make all lower case\n",
    "approved_drugs = [x.lower() for x in approved_drugs]"
   ]
  },
  {
   "cell_type": "code",
   "execution_count": 6,
   "metadata": {},
   "outputs": [],
   "source": [
    "# Take only the first word from drugs list: the pharmaceautical\n",
    "drugs_original = [i.split()[0] for i in approved_drugs]"
   ]
  },
  {
   "cell_type": "code",
   "execution_count": 7,
   "metadata": {},
   "outputs": [],
   "source": [
    "# Identify those that have a generic name\n",
    "is_generic = ['(' in x for x in approved_drugs]"
   ]
  },
  {
   "cell_type": "code",
   "execution_count": 8,
   "metadata": {},
   "outputs": [],
   "source": [
    "# Get the subset of drugs with a generic equivalent\n",
    "drugs_generic = list(itertools.compress(approved_drugs, is_generic))"
   ]
  },
  {
   "cell_type": "code",
   "execution_count": 9,
   "metadata": {},
   "outputs": [],
   "source": [
    "# Extract the generic names\n",
    "drugs_generic = [re.search('\\(([^)]+)', x).group(1) for x in drugs_generic]"
   ]
  },
  {
   "cell_type": "code",
   "execution_count": 10,
   "metadata": {},
   "outputs": [],
   "source": [
    "# Remove 'Paclitaxel Albumin-stabilized Nanoparticle Formulation' because it was already listed as non-generic\n",
    "drugs_generic = drugs_generic[1:]"
   ]
  },
  {
   "cell_type": "code",
   "execution_count": 11,
   "metadata": {},
   "outputs": [],
   "source": [
    "# List of all drugs, in original and generic names\n",
    "approved_drugs_all = list(set(drugs_generic+drugs_original))"
   ]
  },
  {
   "cell_type": "code",
   "execution_count": 12,
   "metadata": {},
   "outputs": [
    {
     "data": {
      "text/plain": [
       "['abraxane',\n",
       " 'afatinib',\n",
       " 'afatinib dimaleate',\n",
       " 'afinitor',\n",
       " 'alecensa',\n",
       " 'alectinib',\n",
       " 'alimta',\n",
       " 'alunbrig',\n",
       " 'atezolizumab',\n",
       " 'avastin',\n",
       " 'bevacizumab',\n",
       " 'brigatinib',\n",
       " 'carboplatin',\n",
       " 'ceritinib',\n",
       " 'crizotinib',\n",
       " 'cyramza',\n",
       " 'dabrafenib',\n",
       " 'dabrafenib mesylate',\n",
       " 'dacomitinib',\n",
       " 'docetaxel',\n",
       " 'doxorubicin',\n",
       " 'durvalumab',\n",
       " 'entrectinib',\n",
       " 'erlotinib',\n",
       " 'erlotinib hydrochloride',\n",
       " 'everolimus',\n",
       " 'gefitinib',\n",
       " 'gemcitabine',\n",
       " 'gemcitabine hydrochloride',\n",
       " 'gemzar',\n",
       " 'gilotrif',\n",
       " 'imfinzi',\n",
       " 'iressa',\n",
       " 'keytruda',\n",
       " 'lorbrena',\n",
       " 'lorlatinib',\n",
       " 'mechlorethamine',\n",
       " 'mechlorethamine hydrochloride',\n",
       " 'mekinist',\n",
       " 'methotrexate',\n",
       " 'mustargen',\n",
       " 'mvasi',\n",
       " 'navelbine',\n",
       " 'necitumumab',\n",
       " 'nivolumab',\n",
       " 'opdivo',\n",
       " 'osimertinib',\n",
       " 'osimertinib mesylate',\n",
       " 'paclitaxel',\n",
       " 'paraplat',\n",
       " 'paraplatin',\n",
       " 'pembrolizumab',\n",
       " 'pemetrexed',\n",
       " 'pemetrexed disodium',\n",
       " 'portrazza',\n",
       " 'ramucirumab',\n",
       " 'rozlytrek',\n",
       " 'tafinlar',\n",
       " 'tagrisso',\n",
       " 'tarceva',\n",
       " 'taxol',\n",
       " 'taxotere',\n",
       " 'tecentriq',\n",
       " 'trametinib',\n",
       " 'trexall',\n",
       " 'vinorelbine',\n",
       " 'vinorelbine tartrate',\n",
       " 'vizimpro',\n",
       " 'xalkori',\n",
       " 'zykadia']"
      ]
     },
     "execution_count": 12,
     "metadata": {},
     "output_type": "execute_result"
    }
   ],
   "source": [
    "sorted(approved_drugs_all)"
   ]
  },
  {
   "cell_type": "markdown",
   "metadata": {},
   "source": [
    "Functions\n",
    "=="
   ]
  },
  {
   "cell_type": "code",
   "execution_count": 13,
   "metadata": {},
   "outputs": [],
   "source": [
    "# Count arms\n",
    "def count_arms(intervention):\n",
    "    \"\"\"Counts the number of trials in the intervention\"\"\"\n",
    "    \n",
    "    # Extract all arms\n",
    "    arms = re.split('\\|',intervention)\n",
    "    \n",
    "    return len(arms)"
   ]
  },
  {
   "cell_type": "code",
   "execution_count": 14,
   "metadata": {},
   "outputs": [],
   "source": [
    "# Generate one column per arm, for trials with 2 arms\n",
    "\n",
    "def separate_arms(intervention):\n",
    "    \"\"\"Generates a column per arm with its interventiond description\"\"\"\n",
    "    \n",
    "    # Extract all arms\n",
    "    arms = re.split('\\|', intervention)\n",
    "    \n",
    "    return arms[0], arms[1]\n",
    "    "
   ]
  },
  {
   "cell_type": "code",
   "execution_count": 15,
   "metadata": {},
   "outputs": [],
   "source": [
    "# Ensures arm's intervention is Drug or Biological \n",
    "\n",
    "def intervention_has_drug_or_biological(intervention):\n",
    "    \"\"\"Flags whether the interventon is drug or biological\"\"\"\n",
    "    \n",
    "    # Extract first word in the intervention description, up to the colon\n",
    "    first_word = re.split(':', intervention)[0]\n",
    "    \n",
    "    flag = 0\n",
    "    if first_word in ('Drug', 'Biological'):\n",
    "        flag = 1\n",
    "        \n",
    "    return flag\n",
    "    "
   ]
  },
  {
   "cell_type": "code",
   "execution_count": 16,
   "metadata": {},
   "outputs": [],
   "source": [
    "# Removes the words 'Drug:' and 'Biological:'\n",
    "\n",
    "def clean_intervention_text(arm_intervention):\n",
    "    \"\"\"\n",
    "    Removes the words 'Drug:' and 'Biological:' from the intervention text in one arm\n",
    "    \"\"\"\n",
    "    \n",
    "    arm = arm_intervention.replace('Drug: ', '')\n",
    "    \n",
    "    arm = arm.replace('Biological: ', '')\n",
    "    \n",
    "    arm = arm.lower()\n",
    "    \n",
    "    return arm"
   ]
  },
  {
   "cell_type": "code",
   "execution_count": 17,
   "metadata": {},
   "outputs": [],
   "source": [
    "# Count arms with drugs in approved drugs list\n",
    "def flags_intervention_text_with_approved_drugs(arm_intervention_text, approved_drugs):\n",
    "    \"\"\"Flags whether the intervention text has an approved drug\"\"\"\n",
    "    \n",
    "    flag = 0 \n",
    "    one_trial_words = re.sub(\"[^\\w]\", \" \",  arm_intervention_text).split()\n",
    "    if len(set(approved_drugs).intersection(set(one_trial_words)))>0:\n",
    "            flag =1\n",
    "            \n",
    "    return flag"
   ]
  },
  {
   "cell_type": "code",
   "execution_count": null,
   "metadata": {},
   "outputs": [],
   "source": []
  },
  {
   "cell_type": "code",
   "execution_count": null,
   "metadata": {},
   "outputs": [],
   "source": []
  },
  {
   "cell_type": "markdown",
   "metadata": {},
   "source": [
    "# Import and process clinical trials dataset"
   ]
  },
  {
   "cell_type": "code",
   "execution_count": 18,
   "metadata": {},
   "outputs": [],
   "source": [
    "path = '~/Documents/Projects/2_Project_Vector/'\n",
    "initial_selection = pd.read_csv(path+'SearchResults_Nov8_2019.csv')"
   ]
  },
  {
   "cell_type": "code",
   "execution_count": 19,
   "metadata": {},
   "outputs": [
    {
     "data": {
      "text/html": [
       "<div>\n",
       "<style scoped>\n",
       "    .dataframe tbody tr th:only-of-type {\n",
       "        vertical-align: middle;\n",
       "    }\n",
       "\n",
       "    .dataframe tbody tr th {\n",
       "        vertical-align: top;\n",
       "    }\n",
       "\n",
       "    .dataframe thead th {\n",
       "        text-align: right;\n",
       "    }\n",
       "</style>\n",
       "<table border=\"1\" class=\"dataframe\">\n",
       "  <thead>\n",
       "    <tr style=\"text-align: right;\">\n",
       "      <th></th>\n",
       "      <th>Rank</th>\n",
       "      <th>NCT Number</th>\n",
       "      <th>Title</th>\n",
       "      <th>Acronym</th>\n",
       "      <th>Status</th>\n",
       "      <th>Study Results</th>\n",
       "      <th>Conditions</th>\n",
       "      <th>Interventions</th>\n",
       "      <th>Outcome Measures</th>\n",
       "      <th>Sponsor/Collaborators</th>\n",
       "      <th>...</th>\n",
       "      <th>Other IDs</th>\n",
       "      <th>Start Date</th>\n",
       "      <th>Primary Completion Date</th>\n",
       "      <th>Completion Date</th>\n",
       "      <th>First Posted</th>\n",
       "      <th>Results First Posted</th>\n",
       "      <th>Last Update Posted</th>\n",
       "      <th>Locations</th>\n",
       "      <th>Study Documents</th>\n",
       "      <th>URL</th>\n",
       "    </tr>\n",
       "  </thead>\n",
       "  <tbody>\n",
       "    <tr>\n",
       "      <th>0</th>\n",
       "      <td>1</td>\n",
       "      <td>NCT02551211</td>\n",
       "      <td>Association Between Circulating Immune Cells a...</td>\n",
       "      <td>LYMPHOLUNG</td>\n",
       "      <td>Recruiting</td>\n",
       "      <td>No Results Available</td>\n",
       "      <td>Resectable Non-small Lung Cancer</td>\n",
       "      <td>Procedure: blood drawn|Procedure: surgical res...</td>\n",
       "      <td>Level of expression of the T regulator over to...</td>\n",
       "      <td>University Hospital, Rouen</td>\n",
       "      <td>...</td>\n",
       "      <td>2015/080/HP</td>\n",
       "      <td>December 14, 2016</td>\n",
       "      <td>July 2019</td>\n",
       "      <td>July 2019</td>\n",
       "      <td>September 16, 2015</td>\n",
       "      <td>NaN</td>\n",
       "      <td>May 28, 2018</td>\n",
       "      <td>Rouen University Hospital, Rouen, France</td>\n",
       "      <td>NaN</td>\n",
       "      <td>https://ClinicalTrials.gov/show/NCT02551211</td>\n",
       "    </tr>\n",
       "    <tr>\n",
       "      <th>1</th>\n",
       "      <td>2</td>\n",
       "      <td>NCT01203735</td>\n",
       "      <td>Valproic Acid With Chemoradiotherapy for Non-S...</td>\n",
       "      <td>NaN</td>\n",
       "      <td>Unknown status</td>\n",
       "      <td>No Results Available</td>\n",
       "      <td>Locally Advanced Inoperable Non-small-lung Cancer</td>\n",
       "      <td>Drug: Valproic acid</td>\n",
       "      <td>Toxicity|Survival</td>\n",
       "      <td>Soroka University Medical Center</td>\n",
       "      <td>...</td>\n",
       "      <td>SOR507910CTIL</td>\n",
       "      <td>February 2011</td>\n",
       "      <td>February 2013</td>\n",
       "      <td>February 2015</td>\n",
       "      <td>September 16, 2010</td>\n",
       "      <td>NaN</td>\n",
       "      <td>March 29, 2011</td>\n",
       "      <td>Soroka University Medical Center, Beer Sheva, ...</td>\n",
       "      <td>NaN</td>\n",
       "      <td>https://ClinicalTrials.gov/show/NCT01203735</td>\n",
       "    </tr>\n",
       "    <tr>\n",
       "      <th>2</th>\n",
       "      <td>3</td>\n",
       "      <td>NCT03944772</td>\n",
       "      <td>Phase 2 Platform Study in Patients With Advanc...</td>\n",
       "      <td>ORCHARD</td>\n",
       "      <td>Recruiting</td>\n",
       "      <td>No Results Available</td>\n",
       "      <td>Non-Small Cell Lung Cancer</td>\n",
       "      <td>Drug: Osimertinib|Drug: Savolitinib|Drug: Gefi...</td>\n",
       "      <td>Objective response rate (ORR)|Progression-free...</td>\n",
       "      <td>AstraZeneca</td>\n",
       "      <td>...</td>\n",
       "      <td>D6186C00001</td>\n",
       "      <td>June 25, 2019</td>\n",
       "      <td>November 11, 2022</td>\n",
       "      <td>November 11, 2022</td>\n",
       "      <td>May 10, 2019</td>\n",
       "      <td>NaN</td>\n",
       "      <td>September 9, 2019</td>\n",
       "      <td>Research Site, Duarte, California, United Stat...</td>\n",
       "      <td>NaN</td>\n",
       "      <td>https://ClinicalTrials.gov/show/NCT03944772</td>\n",
       "    </tr>\n",
       "  </tbody>\n",
       "</table>\n",
       "<p>3 rows × 27 columns</p>\n",
       "</div>"
      ],
      "text/plain": [
       "   Rank   NCT Number                                              Title  \\\n",
       "0     1  NCT02551211  Association Between Circulating Immune Cells a...   \n",
       "1     2  NCT01203735  Valproic Acid With Chemoradiotherapy for Non-S...   \n",
       "2     3  NCT03944772  Phase 2 Platform Study in Patients With Advanc...   \n",
       "\n",
       "      Acronym          Status         Study Results  \\\n",
       "0  LYMPHOLUNG      Recruiting  No Results Available   \n",
       "1         NaN  Unknown status  No Results Available   \n",
       "2     ORCHARD      Recruiting  No Results Available   \n",
       "\n",
       "                                          Conditions  \\\n",
       "0                   Resectable Non-small Lung Cancer   \n",
       "1  Locally Advanced Inoperable Non-small-lung Cancer   \n",
       "2                         Non-Small Cell Lung Cancer   \n",
       "\n",
       "                                       Interventions  \\\n",
       "0  Procedure: blood drawn|Procedure: surgical res...   \n",
       "1                                Drug: Valproic acid   \n",
       "2  Drug: Osimertinib|Drug: Savolitinib|Drug: Gefi...   \n",
       "\n",
       "                                    Outcome Measures  \\\n",
       "0  Level of expression of the T regulator over to...   \n",
       "1                                  Toxicity|Survival   \n",
       "2  Objective response rate (ORR)|Progression-free...   \n",
       "\n",
       "              Sponsor/Collaborators  ...      Other IDs         Start Date  \\\n",
       "0        University Hospital, Rouen  ...    2015/080/HP  December 14, 2016   \n",
       "1  Soroka University Medical Center  ...  SOR507910CTIL      February 2011   \n",
       "2                       AstraZeneca  ...    D6186C00001      June 25, 2019   \n",
       "\n",
       "  Primary Completion Date    Completion Date        First Posted  \\\n",
       "0               July 2019          July 2019  September 16, 2015   \n",
       "1           February 2013      February 2015  September 16, 2010   \n",
       "2       November 11, 2022  November 11, 2022        May 10, 2019   \n",
       "\n",
       "  Results First Posted Last Update Posted  \\\n",
       "0                  NaN       May 28, 2018   \n",
       "1                  NaN     March 29, 2011   \n",
       "2                  NaN  September 9, 2019   \n",
       "\n",
       "                                           Locations Study Documents  \\\n",
       "0           Rouen University Hospital, Rouen, France             NaN   \n",
       "1  Soroka University Medical Center, Beer Sheva, ...             NaN   \n",
       "2  Research Site, Duarte, California, United Stat...             NaN   \n",
       "\n",
       "                                           URL  \n",
       "0  https://ClinicalTrials.gov/show/NCT02551211  \n",
       "1  https://ClinicalTrials.gov/show/NCT01203735  \n",
       "2  https://ClinicalTrials.gov/show/NCT03944772  \n",
       "\n",
       "[3 rows x 27 columns]"
      ]
     },
     "execution_count": 19,
     "metadata": {},
     "output_type": "execute_result"
    }
   ],
   "source": [
    "initial_selection.head(3)"
   ]
  },
  {
   "cell_type": "code",
   "execution_count": 20,
   "metadata": {},
   "outputs": [
    {
     "name": "stdout",
     "output_type": "stream",
     "text": [
      "\n",
      "There are 3684 total lung trials in the initial selection coming from clinicaltrials.gov\n",
      "\n"
     ]
    }
   ],
   "source": [
    "summary = \"\"\"\n",
    "There are {:.0f} total lung trials in the initial selection coming from clinicaltrials.gov\n",
    "\"\"\".format(initial_selection.shape[0])\n",
    "print(summary)"
   ]
  },
  {
   "cell_type": "markdown",
   "metadata": {},
   "source": [
    "Filter 1: Has 2 arms\n",
    "--"
   ]
  },
  {
   "cell_type": "code",
   "execution_count": 21,
   "metadata": {},
   "outputs": [],
   "source": [
    "# Count the number of arms in the intervention\n",
    "initial_selection['arms'] = initial_selection['Interventions'].apply(lambda x: count_arms(x))"
   ]
  },
  {
   "cell_type": "code",
   "execution_count": 22,
   "metadata": {},
   "outputs": [],
   "source": [
    "# Select only trials with 2 arms\n",
    "updated_selection = initial_selection[(initial_selection['arms']==2)].copy()"
   ]
  },
  {
   "cell_type": "code",
   "execution_count": 23,
   "metadata": {},
   "outputs": [
    {
     "name": "stdout",
     "output_type": "stream",
     "text": [
      "\n",
      "After the first filter (having 2 arms), there are 1172 lung trials\n",
      "\n"
     ]
    }
   ],
   "source": [
    "summary = \"\"\"\n",
    "After the first filter (having 2 arms), there are {:.0f} lung trials\n",
    "\"\"\".format(len(updated_selection))\n",
    "print(summary)"
   ]
  },
  {
   "cell_type": "code",
   "execution_count": 24,
   "metadata": {},
   "outputs": [],
   "source": [
    "# Generate two columns, one for each arm, to list their intervention\n",
    "updated_selection['arm1'], updated_selection['arm2'] = zip(*updated_selection['Interventions'].apply(lambda x: separate_arms(x)))\n"
   ]
  },
  {
   "cell_type": "markdown",
   "metadata": {},
   "source": [
    "Filter 2: Both arms have a drug or a biological \n",
    "--\n",
    "\n",
    "We are excluding radiation therapies, procedures, dietary supplement, tests, behavioral, and other interventios. "
   ]
  },
  {
   "cell_type": "code",
   "execution_count": 25,
   "metadata": {},
   "outputs": [],
   "source": [
    "updated_selection1 = updated_selection.copy()"
   ]
  },
  {
   "cell_type": "code",
   "execution_count": 26,
   "metadata": {},
   "outputs": [],
   "source": [
    "# Flag arms with drugs or biological only\n",
    "updated_selection1['arm1_included'] = updated_selection1['arm1'].apply(lambda x: intervention_has_drug_or_biological(x))\n",
    "updated_selection1['arm2_included'] = updated_selection1['arm2'].apply(lambda x: intervention_has_drug_or_biological(x))"
   ]
  },
  {
   "cell_type": "code",
   "execution_count": 27,
   "metadata": {},
   "outputs": [],
   "source": [
    "# Select only trials where both arms have a drug or biological\n",
    "updated_selection1 = updated_selection1[(updated_selection1['arm1_included']==1) & (updated_selection1['arm2_included']==1)] "
   ]
  },
  {
   "cell_type": "code",
   "execution_count": 28,
   "metadata": {},
   "outputs": [
    {
     "name": "stdout",
     "output_type": "stream",
     "text": [
      "\n",
      "After the second filter (having drugs or biologicals only in both arms), there are 835 lung trials\n",
      "\n"
     ]
    }
   ],
   "source": [
    "summary = \"\"\"\n",
    "After the second filter (having drugs or biologicals only in both arms), there are {:.0f} lung trials\n",
    "\"\"\".format(len(updated_selection1))\n",
    "print(summary)"
   ]
  },
  {
   "cell_type": "code",
   "execution_count": 29,
   "metadata": {},
   "outputs": [],
   "source": [
    "# Remove the words 'Drug:' and 'Biological:'\n",
    "updated_selection1['arm1'] = updated_selection1['arm1'].apply(lambda row: clean_intervention_text(row))\n",
    "updated_selection1['arm2'] = updated_selection1['arm2'].apply(lambda row: clean_intervention_text(row))"
   ]
  },
  {
   "cell_type": "code",
   "execution_count": 30,
   "metadata": {},
   "outputs": [],
   "source": [
    "# Reset index\n",
    "updated_selection1.reset_index(inplace=True)"
   ]
  },
  {
   "cell_type": "markdown",
   "metadata": {},
   "source": [
    "Filter 2: Data limitation\n",
    "---\n",
    "\n",
    "There are som entries in the interventions where there are two or three colons within an arm. This is relevatn because to identify those that have a drug or a biological it is assumed there is only one colon in \"Drug:\" and \"Biological:\". \n",
    "\n",
    "Manually analyze these outliers and identify the ones that should be extracted. Then manually add them to the updated selection"
   ]
  },
  {
   "cell_type": "code",
   "execution_count": 31,
   "metadata": {},
   "outputs": [],
   "source": [
    "ex_arm1 = updated_selection['arm1']\n",
    "ex_arm2 = updated_selection['arm2']"
   ]
  },
  {
   "cell_type": "code",
   "execution_count": 32,
   "metadata": {},
   "outputs": [
    {
     "data": {
      "text/html": [
       "<div>\n",
       "<style scoped>\n",
       "    .dataframe tbody tr th:only-of-type {\n",
       "        vertical-align: middle;\n",
       "    }\n",
       "\n",
       "    .dataframe tbody tr th {\n",
       "        vertical-align: top;\n",
       "    }\n",
       "\n",
       "    .dataframe thead th {\n",
       "        text-align: right;\n",
       "    }\n",
       "</style>\n",
       "<table border=\"1\" class=\"dataframe\">\n",
       "  <thead>\n",
       "    <tr style=\"text-align: right;\">\n",
       "      <th></th>\n",
       "      <th>number of colons</th>\n",
       "      <th>number of studies</th>\n",
       "    </tr>\n",
       "  </thead>\n",
       "  <tbody>\n",
       "    <tr>\n",
       "      <th>0</th>\n",
       "      <td>1</td>\n",
       "      <td>1159</td>\n",
       "    </tr>\n",
       "    <tr>\n",
       "      <th>1</th>\n",
       "      <td>2</td>\n",
       "      <td>11</td>\n",
       "    </tr>\n",
       "    <tr>\n",
       "      <th>2</th>\n",
       "      <td>3</td>\n",
       "      <td>2</td>\n",
       "    </tr>\n",
       "  </tbody>\n",
       "</table>\n",
       "</div>"
      ],
      "text/plain": [
       "   number of colons  number of studies\n",
       "0                 1               1159\n",
       "1                 2                 11\n",
       "2                 3                  2"
      ]
     },
     "execution_count": 32,
     "metadata": {},
     "output_type": "execute_result"
    }
   ],
   "source": [
    "# How many studies have an arm where the intervention has more than one colon\n",
    "ex_arm1.apply(lambda x: x.count(':')).value_counts().reset_index().rename(columns = {'index':'number of colons', \n",
    "                                                                                     'arm1' : 'number of studies'})\n"
   ]
  },
  {
   "cell_type": "code",
   "execution_count": 33,
   "metadata": {},
   "outputs": [
    {
     "data": {
      "text/plain": [
       "168     Other: Biological: MUC1 peptide specific immun...\n",
       "236        Drug: Suramin Drug:Docetaxel Drug: Carboplatin\n",
       "864     Drug: Group A:cytokine-induced killer cell +ge...\n",
       "907                      Procedure: A: Radiotherapy alone\n",
       "1157                             Drug: Control arm (SEQ):\n",
       "1171         Radiation: Comparator: CT or MRI and FDG-PET\n",
       "1619    Drug: Group 1: Radiation, Paclitaxel,Carbo, Da...\n",
       "2037    Drug: Erlotinib (trade name: Tarceva®) or Icot...\n",
       "2243                    Drug: Arm A: Pemetrexed Cisplatin\n",
       "2310            Drug: Comparator: erlotinib + dalotuzumab\n",
       "2506    Drug: Intervention A: Irinotecan; Oxaliplatin;...\n",
       "2949    Other: Standard dosing method arm: Cisplatin (...\n",
       "3132                           Radiation: Radiation: SBRT\n",
       "Name: arm1, dtype: object"
      ]
     },
     "execution_count": 33,
     "metadata": {},
     "output_type": "execute_result"
    }
   ],
   "source": [
    "# Display the intervention for these cases\n",
    "ex_arm1[ex_arm1.apply(lambda x: x.count(':'))>1]"
   ]
  },
  {
   "cell_type": "markdown",
   "metadata": {},
   "source": [
    "There are not trials to add from this manual search."
   ]
  },
  {
   "cell_type": "markdown",
   "metadata": {},
   "source": [
    "# Replace numeric codes in intervention with drug name"
   ]
  },
  {
   "cell_type": "code",
   "execution_count": 34,
   "metadata": {},
   "outputs": [],
   "source": [
    "def interventions_with_codes(df):\n",
    "    '''Find all numeric entries and export them as csv to be manually analyzed'''\n",
    "    \n",
    "    #Find all interventions that have numbers\n",
    "    df['arm1_has_codes'] = df['arm1'].apply(lambda row: len(re.findall(r'\\d+', row)))  #flag 0,1\n",
    "    df['arm2_has_codes'] = df['arm2'].apply(lambda row: len(re.findall(r'\\d+', row)))  #flag 0,1\n",
    "    \n",
    "    # export list with codes to generate dictionary\n",
    "    df[(df['arm1_has_codes']==1) | (df['arm2_has_codes']==1)][['arm1', 'arm2']].to_csv('both_arms.csv')\n",
    "\n",
    "    return"
   ]
  },
  {
   "cell_type": "code",
   "execution_count": 35,
   "metadata": {},
   "outputs": [],
   "source": [
    "def replace_codes_with_drug_names(intervention_arm, codes_for_drugs_dictionary):\n",
    "    \"Replaces codes with drug names as declared in csv file\"\n",
    "    \n",
    "    new_interventions = []\n",
    "    for intervention in intervention_arm:\n",
    "        success = 0 \n",
    "        for code, drug in codes_for_drugs_dictionary.items():\n",
    "            if code in intervention:\n",
    "                updated_intervention = intervention.replace(code, drug).lower()\n",
    "                success = 1\n",
    "    \n",
    "        if success == 1:\n",
    "            new_interventions.append(updated_intervention.lower())\n",
    "        else:\n",
    "            new_interventions.append(intervention.lower())\n",
    "            \n",
    "    return new_interventions"
   ]
  },
  {
   "cell_type": "code",
   "execution_count": 36,
   "metadata": {},
   "outputs": [],
   "source": [
    "# Read in numeric characters manually created file\n",
    "processed_numeric_characters = pd.read_csv(path+'numeric_characters.csv')"
   ]
  },
  {
   "cell_type": "code",
   "execution_count": 37,
   "metadata": {},
   "outputs": [],
   "source": [
    "# Numeric characters that indicate the trial needs to be removed\n",
    "remove_if_found = processed_numeric_characters[processed_numeric_characters['replacement_text']=='remove']['original_text']\n",
    "remove_if_found = remove_if_found.reset_index()['original_text']"
   ]
  },
  {
   "cell_type": "code",
   "execution_count": 38,
   "metadata": {},
   "outputs": [],
   "source": [
    "# Name of drugs for codes\n",
    "codes_for_drugs = processed_numeric_characters[processed_numeric_characters['replacement_text']!='remove']\n",
    "codes_for_drugs = codes_for_drugs.reset_index()[['original_text', 'replacement_text']]\n",
    "codes_for_drugs_dict = codes_for_drugs.set_index('original_text').T.to_dict('records')[0]"
   ]
  },
  {
   "cell_type": "code",
   "execution_count": 39,
   "metadata": {},
   "outputs": [],
   "source": [
    "# Flag if trials need to be removed based on numeric codes that are not approved drugs\n",
    "updated_selection1['arm1_to_remove']= updated_selection1['arm1'].apply(lambda row: any(st in row for st in remove_if_found))\n",
    "updated_selection1['arm2_to_remove']= updated_selection1['arm2'].apply(lambda row: any(st in row for st in remove_if_found))"
   ]
  },
  {
   "cell_type": "code",
   "execution_count": 40,
   "metadata": {},
   "outputs": [],
   "source": [
    "# Flag if trials need to be removed based on placebo or saline or vaccine treatments\n",
    "other_removable_objects = ['placebo', 'saline', 'vaccine']\n",
    "updated_selection1['also_arm1_to_remove']= updated_selection1['arm1'].apply(lambda row: any(st in row for st in other_removable_objects))\n",
    "updated_selection1['also_arm2_to_remove']= updated_selection1['arm2'].apply(lambda row: any(st in row for st in other_removable_objects))"
   ]
  },
  {
   "cell_type": "code",
   "execution_count": 41,
   "metadata": {},
   "outputs": [],
   "source": [
    "# Remove all trials with numeric codes that are not approved drugs\n",
    "updated_selection1 = updated_selection1[(updated_selection1['arm1_to_remove'] == False)&(updated_selection1['arm2_to_remove'] == False)]\n",
    "updated_selection1 = updated_selection1[(updated_selection1['also_arm1_to_remove'] == False)&(updated_selection1['also_arm2_to_remove'] == False)]"
   ]
  },
  {
   "cell_type": "code",
   "execution_count": 42,
   "metadata": {},
   "outputs": [],
   "source": [
    "# Replace codes with drug names\n",
    "updated_selection1['new_arm1'] = replace_codes_with_drug_names(updated_selection1['arm1'], codes_for_drugs_dict)\n",
    "updated_selection1['new_arm2'] = replace_codes_with_drug_names(updated_selection1['arm2'], codes_for_drugs_dict)"
   ]
  },
  {
   "cell_type": "code",
   "execution_count": 43,
   "metadata": {},
   "outputs": [],
   "source": [
    "updated_selection2 = updated_selection1.copy()"
   ]
  },
  {
   "cell_type": "code",
   "execution_count": 44,
   "metadata": {},
   "outputs": [
    {
     "data": {
      "text/plain": [
       "560"
      ]
     },
     "execution_count": 44,
     "metadata": {},
     "output_type": "execute_result"
    }
   ],
   "source": [
    "len(updated_selection2)"
   ]
  },
  {
   "cell_type": "code",
   "execution_count": null,
   "metadata": {},
   "outputs": [],
   "source": []
  },
  {
   "cell_type": "markdown",
   "metadata": {},
   "source": [
    "Filter 3: Both arms have approved drugs\n",
    "--\n",
    "Algorithm: \n",
    "1. Flag all the trials with arm 1 having at least one intervention drug using the list of approved drugs \n",
    "2. Flag all the trials with arm 2 having at least one intervention drug using the list of approved drugs\n",
    "3. For trials with only one Select the trials where both arms have an approved drug"
   ]
  },
  {
   "cell_type": "code",
   "execution_count": 46,
   "metadata": {},
   "outputs": [],
   "source": [
    "def interventions_wordy(df):\n",
    "    '''Find all interventions that have more than one word to analyze manually'''\n",
    "    \n",
    "    wordy_selection = df[\n",
    "                        ((df['new_arm1'].str.split().apply(len) > 1)\n",
    "                        | (df['new_arm2'].str.split().apply(len) > 1))]\n",
    "     \n",
    "    return wordy_selection\n",
    "                "
   ]
  },
  {
   "cell_type": "code",
   "execution_count": 47,
   "metadata": {},
   "outputs": [],
   "source": [
    "def interventions_not_wordy(df):\n",
    "    '''Find all interventions that have onlye one word (one drug in both arms)'''\n",
    "    \n",
    "    wordy_selection = df[\n",
    "                        ((df['new_arm1'].str.split().apply(len) == 1)\n",
    "                        & (df['new_arm2'].str.split().apply(len) == 1))]\n",
    "     \n",
    "    return wordy_selection\n",
    "                "
   ]
  },
  {
   "cell_type": "code",
   "execution_count": 48,
   "metadata": {},
   "outputs": [],
   "source": [
    "# Flag trials with intervention text that contains at least one word that is an approved drug\n",
    "updated_selection2['arm1_has_approved_drugs'] = updated_selection2['new_arm1'].apply(lambda x: flags_intervention_text_with_approved_drugs(x, approved_drugs_all)) \n",
    "updated_selection2['arm2_has_approved_drugs'] = updated_selection2['new_arm2'].apply(lambda x: flags_intervention_text_with_approved_drugs(x, approved_drugs_all)) \n"
   ]
  },
  {
   "cell_type": "code",
   "execution_count": 49,
   "metadata": {},
   "outputs": [],
   "source": [
    "# Remove those trials that don't have a single approved drug in ther intervention text\n",
    "updated_selection2 = updated_selection2[(updated_selection2['arm1_has_approved_drugs']==1)&(updated_selection2['arm2_has_approved_drugs']==1)]"
   ]
  },
  {
   "cell_type": "code",
   "execution_count": 50,
   "metadata": {},
   "outputs": [],
   "source": [
    "# Separate trials based on the length of their intervention: one word long, vs multi-word. \n",
    "single_word_interventions = interventions_not_wordy(updated_selection2).copy()\n",
    "wordy_interventions = interventions_wordy(updated_selection2)"
   ]
  },
  {
   "cell_type": "code",
   "execution_count": 51,
   "metadata": {},
   "outputs": [
    {
     "name": "stdout",
     "output_type": "stream",
     "text": [
      "\n",
      "Of the 250 trials with at least one approved drug, \n",
      "137 are single word (most likely a single drug) in both arms trials, and the remaining \n",
      "113 have at least one arm with a multi-word intervention description \n",
      "that is longer than one word and needs to analyzed manually.\n",
      "\n"
     ]
    }
   ],
   "source": [
    "summary =\"\"\"\n",
    "Of the {:.0f} trials with at least one approved drug, \n",
    "{:.0f} are single word (most likely a single drug) in both arms trials, and the remaining \n",
    "{:.0f} have at least one arm with a multi-word intervention description \n",
    "that is longer than one word and needs to analyzed manually.\n",
    "\"\"\".format(\n",
    "    len(updated_selection2), \n",
    "    len(single_word_interventions), \n",
    "    len(wordy_interventions))\n",
    "\n",
    "print(summary)"
   ]
  },
  {
   "cell_type": "code",
   "execution_count": 52,
   "metadata": {},
   "outputs": [],
   "source": [
    "# Generate .csv with trials that have interventions that are more than one word long\n",
    "wordy_interventions.to_csv('wordy_interventions.csv')\n",
    "single_word_interventions.to_csv('one_word_interventions.csv')"
   ]
  },
  {
   "cell_type": "code",
   "execution_count": 53,
   "metadata": {},
   "outputs": [],
   "source": [
    "# Read in the manually analyzed interventions\n",
    "selected_wordy_interventions = pd.read_csv(path+'wordy_interventions_manually_analyzed.csv')\n",
    "selected_one_word_interventions = pd.read_csv(path+'one_word_interventions_manually_analyzed.csv')"
   ]
  },
  {
   "cell_type": "code",
   "execution_count": 54,
   "metadata": {},
   "outputs": [
    {
     "data": {
      "text/plain": [
       "dtype('O')"
      ]
     },
     "execution_count": 54,
     "metadata": {},
     "output_type": "execute_result"
    }
   ],
   "source": [
    "selected_wordy_interventions['Included'].dtype"
   ]
  },
  {
   "cell_type": "code",
   "execution_count": 55,
   "metadata": {},
   "outputs": [
    {
     "data": {
      "text/plain": [
       "dtype('bool')"
      ]
     },
     "execution_count": 55,
     "metadata": {},
     "output_type": "execute_result"
    }
   ],
   "source": [
    "selected_one_word_interventions['Included'].dtype"
   ]
  },
  {
   "cell_type": "code",
   "execution_count": 56,
   "metadata": {},
   "outputs": [],
   "source": [
    "selected_wordy_interventions = selected_wordy_interventions[selected_wordy_interventions['Included']=='TRUE']\n",
    "selected_one_word_interventions = selected_one_word_interventions[selected_one_word_interventions['Included']==True]"
   ]
  },
  {
   "cell_type": "code",
   "execution_count": 57,
   "metadata": {},
   "outputs": [],
   "source": [
    "# Export the selected wordy interventions to be manually edited in their arm descriptions\n",
    "selected_wordy_interventions.to_csv('selected_wordy_interventions.csv')\n",
    "selected_one_word_interventions.to_csv('selected_one_word_interventions.csv')"
   ]
  },
  {
   "cell_type": "code",
   "execution_count": 58,
   "metadata": {},
   "outputs": [],
   "source": [
    "# Read in the manually analyzed interventions\n",
    "wordy_interventions_ready_to_merge = pd.read_csv(path+'selected_wordy_interventions_manually_processed.csv')\n",
    "single_word_interventions_ready_to_merge = pd.read_csv(path+'selected_one_word_interventions_manually_processed.csv')"
   ]
  },
  {
   "cell_type": "code",
   "execution_count": 59,
   "metadata": {},
   "outputs": [
    {
     "data": {
      "text/plain": [
       "dtype('bool')"
      ]
     },
     "execution_count": 59,
     "metadata": {},
     "output_type": "execute_result"
    }
   ],
   "source": [
    "wordy_interventions_ready_to_merge['arm1_multidrug'].dtype"
   ]
  },
  {
   "cell_type": "code",
   "execution_count": 60,
   "metadata": {},
   "outputs": [],
   "source": [
    "# Remove columns that are not in common between both dataframes before concatenating them\n",
    "wordy_interventions_ready_to_merge.columns.difference(single_word_interventions_ready_to_merge.columns)\n",
    "wordy_interventions_ready_to_merge = wordy_interventions_ready_to_merge.drop(wordy_interventions_ready_to_merge.columns[1], axis=1)\n",
    "# Concatenate single word interventions and multidrug interventions dataframes into one master dataframe\n",
    "updated_selection3 = pd.concat([single_word_interventions_ready_to_merge, wordy_interventions_ready_to_merge], \n",
    "                               sort=False, ignore_index =True)\n"
   ]
  },
  {
   "cell_type": "code",
   "execution_count": 61,
   "metadata": {},
   "outputs": [
    {
     "name": "stdout",
     "output_type": "stream",
     "text": [
      "\n",
      "After the third filter (having approved drugs in both arms), there are 172 lung trials\n",
      "\n"
     ]
    }
   ],
   "source": [
    "summary = \"\"\"\n",
    "After the third filter (having approved drugs in both arms), there are {:.0f} lung trials\n",
    "\"\"\".format(len(updated_selection3))\n",
    "print(summary)"
   ]
  },
  {
   "cell_type": "code",
   "execution_count": 62,
   "metadata": {},
   "outputs": [],
   "source": [
    "updated_selection3['updated_new_arm1'] = updated_selection3['updated_new_arm1'].astype(str)\n",
    "updated_selection3['updated_new_arm2'] = updated_selection3['updated_new_arm2'].astype(str)"
   ]
  },
  {
   "cell_type": "code",
   "execution_count": 63,
   "metadata": {},
   "outputs": [],
   "source": [
    "# Remove trademark symbol\n",
    "updated_selection3['updated_new_arm1'] = updated_selection3['updated_new_arm1'].apply(lambda row: row.strip('®'))\n",
    "updated_selection3['updated_new_arm2'] = updated_selection3['updated_new_arm2'].apply(lambda row: row.strip('®'))"
   ]
  },
  {
   "cell_type": "code",
   "execution_count": 64,
   "metadata": {},
   "outputs": [
    {
     "data": {
      "text/plain": [
       "Index(['Unnamed: 0', 'index', 'Rank', 'NCT Number', 'Title', 'Acronym',\n",
       "       'Status', 'Study Results', 'Conditions', 'Interventions',\n",
       "       'Outcome Measures', 'Sponsor/Collaborators', 'Gender', 'Age', 'Phases',\n",
       "       'Enrollment', 'Funded Bys', 'Study Type', 'Study Designs', 'Other IDs',\n",
       "       'Start Date', 'Primary Completion Date', 'Completion Date',\n",
       "       'First Posted', 'Results First Posted', 'Last Update Posted',\n",
       "       'Locations', 'Study Documents', 'URL', 'arms', 'arm1', 'arm2',\n",
       "       'arm1_included', 'arm2_included', 'arm1_to_remove', 'arm2_to_remove',\n",
       "       'also_arm1_to_remove', 'also_arm2_to_remove', 'new_arm1', 'new_arm2',\n",
       "       'arm1_has_approved_drugs', 'arm2_has_approved_drugs', 'Included',\n",
       "       'Reason', 'updated_new_arm1', 'updated_new_arm2', 'arm1_multidrug',\n",
       "       'arm2_multidrug'],\n",
       "      dtype='object')"
      ]
     },
     "execution_count": 64,
     "metadata": {},
     "output_type": "execute_result"
    }
   ],
   "source": [
    "updated_selection3.columns"
   ]
  },
  {
   "cell_type": "markdown",
   "metadata": {},
   "source": [
    "# Export file with updated selection (Three filters) to send to Ruishan. \n",
    "Ruishan will return the file with information on the sample size for each intervention arm for that drug in Flatiron"
   ]
  },
  {
   "cell_type": "code",
   "execution_count": 65,
   "metadata": {},
   "outputs": [],
   "source": [
    "# Simplify file\n",
    "columns_to_keep = ['NCT Number', 'updated_new_arm1', 'updated_new_arm2', 'arm1_multidrug', 'arm2_multidrug']"
   ]
  },
  {
   "cell_type": "code",
   "execution_count": 66,
   "metadata": {},
   "outputs": [],
   "source": [
    "basic_updated_selection3 = updated_selection3[columns_to_keep]"
   ]
  },
  {
   "cell_type": "code",
   "execution_count": 67,
   "metadata": {},
   "outputs": [],
   "source": [
    "basic_updated_selection3 = basic_updated_selection3.rename(columns = {'updated_new_arm1':'drugs_in_arm1', \n",
    "                                                                     'updated_new_arm2':'drugs_in_arm2', \n",
    "                                                                     'arm1_multidrug': 'arm1_has_drug_combo', \n",
    "                                                                     'arm2_multidrug': 'arm2_has_drug_combo'})"
   ]
  },
  {
   "cell_type": "code",
   "execution_count": 68,
   "metadata": {},
   "outputs": [],
   "source": [
    "basic_updated_selection3.to_csv('Updated_selection_Three_Filters.csv')"
   ]
  },
  {
   "cell_type": "code",
   "execution_count": 69,
   "metadata": {},
   "outputs": [
    {
     "data": {
      "text/plain": [
       "172"
      ]
     },
     "execution_count": 69,
     "metadata": {},
     "output_type": "execute_result"
    }
   ],
   "source": [
    "len(basic_updated_selection3)"
   ]
  },
  {
   "cell_type": "markdown",
   "metadata": {},
   "source": [
    "# Are our initial 9 Lung Trials in the results of the systematic search?"
   ]
  },
  {
   "cell_type": "markdown",
   "metadata": {},
   "source": [
    "Trials codes:\n",
    "* NCT02578680\n",
    "* NCT02775435\n",
    "* NCT02008227\n",
    "* NCT01642004\n",
    "* NCT01673867\n",
    "* NCT02613507\n",
    "* NCT02713867\n",
    "* NCT02296125\n",
    "* NCT01364012\n"
   ]
  },
  {
   "cell_type": "code",
   "execution_count": 70,
   "metadata": {},
   "outputs": [
    {
     "data": {
      "text/html": [
       "<div>\n",
       "<style scoped>\n",
       "    .dataframe tbody tr th:only-of-type {\n",
       "        vertical-align: middle;\n",
       "    }\n",
       "\n",
       "    .dataframe tbody tr th {\n",
       "        vertical-align: top;\n",
       "    }\n",
       "\n",
       "    .dataframe thead th {\n",
       "        text-align: right;\n",
       "    }\n",
       "</style>\n",
       "<table border=\"1\" class=\"dataframe\">\n",
       "  <thead>\n",
       "    <tr style=\"text-align: right;\">\n",
       "      <th></th>\n",
       "      <th>Rank</th>\n",
       "      <th>NCT Number</th>\n",
       "      <th>Title</th>\n",
       "      <th>Acronym</th>\n",
       "      <th>Status</th>\n",
       "      <th>Study Results</th>\n",
       "      <th>Conditions</th>\n",
       "      <th>Interventions</th>\n",
       "      <th>Outcome Measures</th>\n",
       "      <th>Sponsor/Collaborators</th>\n",
       "      <th>...</th>\n",
       "      <th>Start Date</th>\n",
       "      <th>Primary Completion Date</th>\n",
       "      <th>Completion Date</th>\n",
       "      <th>First Posted</th>\n",
       "      <th>Results First Posted</th>\n",
       "      <th>Last Update Posted</th>\n",
       "      <th>Locations</th>\n",
       "      <th>Study Documents</th>\n",
       "      <th>URL</th>\n",
       "      <th>arms</th>\n",
       "    </tr>\n",
       "  </thead>\n",
       "  <tbody>\n",
       "    <tr>\n",
       "      <th>826</th>\n",
       "      <td>827</td>\n",
       "      <td>NCT02008227</td>\n",
       "      <td>A Study of Atezolizumab Compared With Docetaxe...</td>\n",
       "      <td>OAK</td>\n",
       "      <td>Completed</td>\n",
       "      <td>Has Results</td>\n",
       "      <td>Non-Squamous Non-Small Cell Lung Cancer</td>\n",
       "      <td>Drug: Atezolizumab|Drug: Docetaxel</td>\n",
       "      <td>Percentage of Participants Who Died: PP-ITT|Pe...</td>\n",
       "      <td>Hoffmann-La Roche</td>\n",
       "      <td>...</td>\n",
       "      <td>March 11, 2014</td>\n",
       "      <td>July 7, 2016</td>\n",
       "      <td>January 9, 2019</td>\n",
       "      <td>December 11, 2013</td>\n",
       "      <td>July 2, 2017</td>\n",
       "      <td>February 8, 2019</td>\n",
       "      <td>Comprehensive Blood/Cancer Ctr, Bakersfield, C...</td>\n",
       "      <td>NaN</td>\n",
       "      <td>https://ClinicalTrials.gov/show/NCT02008227</td>\n",
       "      <td>2</td>\n",
       "    </tr>\n",
       "  </tbody>\n",
       "</table>\n",
       "<p>1 rows × 28 columns</p>\n",
       "</div>"
      ],
      "text/plain": [
       "     Rank   NCT Number                                              Title  \\\n",
       "826   827  NCT02008227  A Study of Atezolizumab Compared With Docetaxe...   \n",
       "\n",
       "    Acronym     Status Study Results                               Conditions  \\\n",
       "826     OAK  Completed   Has Results  Non-Squamous Non-Small Cell Lung Cancer   \n",
       "\n",
       "                          Interventions  \\\n",
       "826  Drug: Atezolizumab|Drug: Docetaxel   \n",
       "\n",
       "                                      Outcome Measures Sponsor/Collaborators  \\\n",
       "826  Percentage of Participants Who Died: PP-ITT|Pe...     Hoffmann-La Roche   \n",
       "\n",
       "     ...      Start Date Primary Completion Date  Completion Date  \\\n",
       "826  ...  March 11, 2014            July 7, 2016  January 9, 2019   \n",
       "\n",
       "          First Posted Results First Posted Last Update Posted  \\\n",
       "826  December 11, 2013         July 2, 2017   February 8, 2019   \n",
       "\n",
       "                                             Locations Study Documents  \\\n",
       "826  Comprehensive Blood/Cancer Ctr, Bakersfield, C...             NaN   \n",
       "\n",
       "                                             URL arms  \n",
       "826  https://ClinicalTrials.gov/show/NCT02008227    2  \n",
       "\n",
       "[1 rows x 28 columns]"
      ]
     },
     "execution_count": 70,
     "metadata": {},
     "output_type": "execute_result"
    }
   ],
   "source": [
    "initial_selection[initial_selection['NCT Number']=='NCT02008227']"
   ]
  },
  {
   "cell_type": "code",
   "execution_count": 71,
   "metadata": {},
   "outputs": [
    {
     "data": {
      "text/html": [
       "<div>\n",
       "<style scoped>\n",
       "    .dataframe tbody tr th:only-of-type {\n",
       "        vertical-align: middle;\n",
       "    }\n",
       "\n",
       "    .dataframe tbody tr th {\n",
       "        vertical-align: top;\n",
       "    }\n",
       "\n",
       "    .dataframe thead th {\n",
       "        text-align: right;\n",
       "    }\n",
       "</style>\n",
       "<table border=\"1\" class=\"dataframe\">\n",
       "  <thead>\n",
       "    <tr style=\"text-align: right;\">\n",
       "      <th></th>\n",
       "      <th>Rank</th>\n",
       "      <th>NCT Number</th>\n",
       "      <th>Title</th>\n",
       "      <th>Acronym</th>\n",
       "      <th>Status</th>\n",
       "      <th>Study Results</th>\n",
       "      <th>Conditions</th>\n",
       "      <th>Interventions</th>\n",
       "      <th>Outcome Measures</th>\n",
       "      <th>Sponsor/Collaborators</th>\n",
       "      <th>...</th>\n",
       "      <th>Completion Date</th>\n",
       "      <th>First Posted</th>\n",
       "      <th>Results First Posted</th>\n",
       "      <th>Last Update Posted</th>\n",
       "      <th>Locations</th>\n",
       "      <th>Study Documents</th>\n",
       "      <th>URL</th>\n",
       "      <th>arms</th>\n",
       "      <th>arm1</th>\n",
       "      <th>arm2</th>\n",
       "    </tr>\n",
       "  </thead>\n",
       "  <tbody>\n",
       "    <tr>\n",
       "      <th>825</th>\n",
       "      <td>826</td>\n",
       "      <td>NCT01642004</td>\n",
       "      <td>Study of BMS-936558 (Nivolumab) Compared to Do...</td>\n",
       "      <td>NaN</td>\n",
       "      <td>Active, not recruiting</td>\n",
       "      <td>Has Results</td>\n",
       "      <td>Squamous Cell Non-small Cell Lung Cancer</td>\n",
       "      <td>Biological: Nivolumab|Drug: Docetaxel</td>\n",
       "      <td>Overall Survival (OS) Time in Months for All R...</td>\n",
       "      <td>Bristol-Myers Squibb</td>\n",
       "      <td>...</td>\n",
       "      <td>January 23, 2020</td>\n",
       "      <td>July 17, 2012</td>\n",
       "      <td>March 17, 2016</td>\n",
       "      <td>August 9, 2019</td>\n",
       "      <td>Mayo Clinic Arizona, Scottsdale, Arizona, Unit...</td>\n",
       "      <td>NaN</td>\n",
       "      <td>https://ClinicalTrials.gov/show/NCT01642004</td>\n",
       "      <td>2</td>\n",
       "      <td>Biological: Nivolumab</td>\n",
       "      <td>Drug: Docetaxel</td>\n",
       "    </tr>\n",
       "  </tbody>\n",
       "</table>\n",
       "<p>1 rows × 30 columns</p>\n",
       "</div>"
      ],
      "text/plain": [
       "     Rank   NCT Number                                              Title  \\\n",
       "825   826  NCT01642004  Study of BMS-936558 (Nivolumab) Compared to Do...   \n",
       "\n",
       "    Acronym                  Status Study Results  \\\n",
       "825     NaN  Active, not recruiting   Has Results   \n",
       "\n",
       "                                   Conditions  \\\n",
       "825  Squamous Cell Non-small Cell Lung Cancer   \n",
       "\n",
       "                             Interventions  \\\n",
       "825  Biological: Nivolumab|Drug: Docetaxel   \n",
       "\n",
       "                                      Outcome Measures Sponsor/Collaborators  \\\n",
       "825  Overall Survival (OS) Time in Months for All R...  Bristol-Myers Squibb   \n",
       "\n",
       "     ...   Completion Date   First Posted Results First Posted  \\\n",
       "825  ...  January 23, 2020  July 17, 2012       March 17, 2016   \n",
       "\n",
       "     Last Update Posted                                          Locations  \\\n",
       "825      August 9, 2019  Mayo Clinic Arizona, Scottsdale, Arizona, Unit...   \n",
       "\n",
       "    Study Documents                                          URL arms  \\\n",
       "825             NaN  https://ClinicalTrials.gov/show/NCT01642004    2   \n",
       "\n",
       "                      arm1             arm2  \n",
       "825  Biological: Nivolumab  Drug: Docetaxel  \n",
       "\n",
       "[1 rows x 30 columns]"
      ]
     },
     "execution_count": 71,
     "metadata": {},
     "output_type": "execute_result"
    }
   ],
   "source": [
    "updated_selection[updated_selection['NCT Number']=='NCT01642004']"
   ]
  },
  {
   "cell_type": "code",
   "execution_count": 72,
   "metadata": {},
   "outputs": [
    {
     "data": {
      "text/html": [
       "<div>\n",
       "<style scoped>\n",
       "    .dataframe tbody tr th:only-of-type {\n",
       "        vertical-align: middle;\n",
       "    }\n",
       "\n",
       "    .dataframe tbody tr th {\n",
       "        vertical-align: top;\n",
       "    }\n",
       "\n",
       "    .dataframe thead th {\n",
       "        text-align: right;\n",
       "    }\n",
       "</style>\n",
       "<table border=\"1\" class=\"dataframe\">\n",
       "  <thead>\n",
       "    <tr style=\"text-align: right;\">\n",
       "      <th></th>\n",
       "      <th>index</th>\n",
       "      <th>Rank</th>\n",
       "      <th>NCT Number</th>\n",
       "      <th>Title</th>\n",
       "      <th>Acronym</th>\n",
       "      <th>Status</th>\n",
       "      <th>Study Results</th>\n",
       "      <th>Conditions</th>\n",
       "      <th>Interventions</th>\n",
       "      <th>Outcome Measures</th>\n",
       "      <th>...</th>\n",
       "      <th>arm1</th>\n",
       "      <th>arm2</th>\n",
       "      <th>arm1_included</th>\n",
       "      <th>arm2_included</th>\n",
       "      <th>arm1_to_remove</th>\n",
       "      <th>arm2_to_remove</th>\n",
       "      <th>also_arm1_to_remove</th>\n",
       "      <th>also_arm2_to_remove</th>\n",
       "      <th>new_arm1</th>\n",
       "      <th>new_arm2</th>\n",
       "    </tr>\n",
       "  </thead>\n",
       "  <tbody>\n",
       "    <tr>\n",
       "      <th>460</th>\n",
       "      <td>2015</td>\n",
       "      <td>2016</td>\n",
       "      <td>NCT01673867</td>\n",
       "      <td>Study of BMS-936558 (Nivolumab) Compared to Do...</td>\n",
       "      <td>CheckMate057</td>\n",
       "      <td>Active, not recruiting</td>\n",
       "      <td>Has Results</td>\n",
       "      <td>Non-Squamous Cell Non-small Cell Lung Cancer</td>\n",
       "      <td>Biological: Nivolumab|Drug: Docetaxel</td>\n",
       "      <td>Overall Survival (OS) Time in Months for All R...</td>\n",
       "      <td>...</td>\n",
       "      <td>nivolumab</td>\n",
       "      <td>docetaxel</td>\n",
       "      <td>1</td>\n",
       "      <td>1</td>\n",
       "      <td>False</td>\n",
       "      <td>False</td>\n",
       "      <td>False</td>\n",
       "      <td>False</td>\n",
       "      <td>nivolumab</td>\n",
       "      <td>docetaxel</td>\n",
       "    </tr>\n",
       "  </tbody>\n",
       "</table>\n",
       "<p>1 rows × 39 columns</p>\n",
       "</div>"
      ],
      "text/plain": [
       "     index  Rank   NCT Number  \\\n",
       "460   2015  2016  NCT01673867   \n",
       "\n",
       "                                                 Title       Acronym  \\\n",
       "460  Study of BMS-936558 (Nivolumab) Compared to Do...  CheckMate057   \n",
       "\n",
       "                     Status Study Results  \\\n",
       "460  Active, not recruiting   Has Results   \n",
       "\n",
       "                                       Conditions  \\\n",
       "460  Non-Squamous Cell Non-small Cell Lung Cancer   \n",
       "\n",
       "                             Interventions  \\\n",
       "460  Biological: Nivolumab|Drug: Docetaxel   \n",
       "\n",
       "                                      Outcome Measures  ...       arm1  \\\n",
       "460  Overall Survival (OS) Time in Months for All R...  ...  nivolumab   \n",
       "\n",
       "          arm2 arm1_included arm2_included  arm1_to_remove arm2_to_remove  \\\n",
       "460  docetaxel             1             1           False          False   \n",
       "\n",
       "    also_arm1_to_remove also_arm2_to_remove   new_arm1   new_arm2  \n",
       "460               False               False  nivolumab  docetaxel  \n",
       "\n",
       "[1 rows x 39 columns]"
      ]
     },
     "execution_count": 72,
     "metadata": {},
     "output_type": "execute_result"
    }
   ],
   "source": [
    "updated_selection1[updated_selection1['NCT Number']=='NCT01673867']"
   ]
  },
  {
   "cell_type": "code",
   "execution_count": 73,
   "metadata": {},
   "outputs": [
    {
     "data": {
      "text/html": [
       "<div>\n",
       "<style scoped>\n",
       "    .dataframe tbody tr th:only-of-type {\n",
       "        vertical-align: middle;\n",
       "    }\n",
       "\n",
       "    .dataframe tbody tr th {\n",
       "        vertical-align: top;\n",
       "    }\n",
       "\n",
       "    .dataframe thead th {\n",
       "        text-align: right;\n",
       "    }\n",
       "</style>\n",
       "<table border=\"1\" class=\"dataframe\">\n",
       "  <thead>\n",
       "    <tr style=\"text-align: right;\">\n",
       "      <th></th>\n",
       "      <th>index</th>\n",
       "      <th>Rank</th>\n",
       "      <th>NCT Number</th>\n",
       "      <th>Title</th>\n",
       "      <th>Acronym</th>\n",
       "      <th>Status</th>\n",
       "      <th>Study Results</th>\n",
       "      <th>Conditions</th>\n",
       "      <th>Interventions</th>\n",
       "      <th>Outcome Measures</th>\n",
       "      <th>...</th>\n",
       "      <th>arm1_included</th>\n",
       "      <th>arm2_included</th>\n",
       "      <th>arm1_to_remove</th>\n",
       "      <th>arm2_to_remove</th>\n",
       "      <th>also_arm1_to_remove</th>\n",
       "      <th>also_arm2_to_remove</th>\n",
       "      <th>new_arm1</th>\n",
       "      <th>new_arm2</th>\n",
       "      <th>arm1_has_approved_drugs</th>\n",
       "      <th>arm2_has_approved_drugs</th>\n",
       "    </tr>\n",
       "  </thead>\n",
       "  <tbody>\n",
       "    <tr>\n",
       "      <th>121</th>\n",
       "      <td>457</td>\n",
       "      <td>458</td>\n",
       "      <td>NCT02613507</td>\n",
       "      <td>Efficacy Study of Nivolumab Compared to Doceta...</td>\n",
       "      <td>CheckMate 078</td>\n",
       "      <td>Active, not recruiting</td>\n",
       "      <td>Has Results</td>\n",
       "      <td>Non-Small Cell Lung Cancer</td>\n",
       "      <td>Drug: Nivolumab|Drug: Docetaxel</td>\n",
       "      <td>Median Overall Survival|Overall Survival Rate|...</td>\n",
       "      <td>...</td>\n",
       "      <td>1</td>\n",
       "      <td>1</td>\n",
       "      <td>False</td>\n",
       "      <td>False</td>\n",
       "      <td>False</td>\n",
       "      <td>False</td>\n",
       "      <td>nivolumab</td>\n",
       "      <td>docetaxel</td>\n",
       "      <td>1</td>\n",
       "      <td>1</td>\n",
       "    </tr>\n",
       "  </tbody>\n",
       "</table>\n",
       "<p>1 rows × 41 columns</p>\n",
       "</div>"
      ],
      "text/plain": [
       "     index  Rank   NCT Number  \\\n",
       "121    457   458  NCT02613507   \n",
       "\n",
       "                                                 Title        Acronym  \\\n",
       "121  Efficacy Study of Nivolumab Compared to Doceta...  CheckMate 078   \n",
       "\n",
       "                     Status Study Results                  Conditions  \\\n",
       "121  Active, not recruiting   Has Results  Non-Small Cell Lung Cancer   \n",
       "\n",
       "                       Interventions  \\\n",
       "121  Drug: Nivolumab|Drug: Docetaxel   \n",
       "\n",
       "                                      Outcome Measures  ... arm1_included  \\\n",
       "121  Median Overall Survival|Overall Survival Rate|...  ...             1   \n",
       "\n",
       "    arm2_included arm1_to_remove arm2_to_remove  also_arm1_to_remove  \\\n",
       "121             1          False          False                False   \n",
       "\n",
       "    also_arm2_to_remove   new_arm1   new_arm2 arm1_has_approved_drugs  \\\n",
       "121               False  nivolumab  docetaxel                       1   \n",
       "\n",
       "    arm2_has_approved_drugs  \n",
       "121                       1  \n",
       "\n",
       "[1 rows x 41 columns]"
      ]
     },
     "execution_count": 73,
     "metadata": {},
     "output_type": "execute_result"
    }
   ],
   "source": [
    "updated_selection2[updated_selection2['NCT Number']=='NCT02613507']"
   ]
  },
  {
   "cell_type": "code",
   "execution_count": 74,
   "metadata": {},
   "outputs": [
    {
     "data": {
      "text/html": [
       "<div>\n",
       "<style scoped>\n",
       "    .dataframe tbody tr th:only-of-type {\n",
       "        vertical-align: middle;\n",
       "    }\n",
       "\n",
       "    .dataframe tbody tr th {\n",
       "        vertical-align: top;\n",
       "    }\n",
       "\n",
       "    .dataframe thead th {\n",
       "        text-align: right;\n",
       "    }\n",
       "</style>\n",
       "<table border=\"1\" class=\"dataframe\">\n",
       "  <thead>\n",
       "    <tr style=\"text-align: right;\">\n",
       "      <th></th>\n",
       "      <th>Unnamed: 0</th>\n",
       "      <th>index</th>\n",
       "      <th>Rank</th>\n",
       "      <th>NCT Number</th>\n",
       "      <th>Title</th>\n",
       "      <th>Acronym</th>\n",
       "      <th>Status</th>\n",
       "      <th>Study Results</th>\n",
       "      <th>Conditions</th>\n",
       "      <th>Interventions</th>\n",
       "      <th>...</th>\n",
       "      <th>new_arm1</th>\n",
       "      <th>new_arm2</th>\n",
       "      <th>arm1_has_approved_drugs</th>\n",
       "      <th>arm2_has_approved_drugs</th>\n",
       "      <th>Included</th>\n",
       "      <th>Reason</th>\n",
       "      <th>updated_new_arm1</th>\n",
       "      <th>updated_new_arm2</th>\n",
       "      <th>arm1_multidrug</th>\n",
       "      <th>arm2_multidrug</th>\n",
       "    </tr>\n",
       "  </thead>\n",
       "  <tbody>\n",
       "  </tbody>\n",
       "</table>\n",
       "<p>0 rows × 48 columns</p>\n",
       "</div>"
      ],
      "text/plain": [
       "Empty DataFrame\n",
       "Columns: [Unnamed: 0, index, Rank, NCT Number, Title, Acronym, Status, Study Results, Conditions, Interventions, Outcome Measures, Sponsor/Collaborators, Gender, Age, Phases, Enrollment, Funded Bys, Study Type, Study Designs, Other IDs, Start Date, Primary Completion Date, Completion Date, First Posted, Results First Posted, Last Update Posted, Locations, Study Documents, URL, arms, arm1, arm2, arm1_included, arm2_included, arm1_to_remove, arm2_to_remove, also_arm1_to_remove, also_arm2_to_remove, new_arm1, new_arm2, arm1_has_approved_drugs, arm2_has_approved_drugs, Included, Reason, updated_new_arm1, updated_new_arm2, arm1_multidrug, arm2_multidrug]\n",
       "Index: []\n",
       "\n",
       "[0 rows x 48 columns]"
      ]
     },
     "execution_count": 74,
     "metadata": {},
     "output_type": "execute_result"
    }
   ],
   "source": [
    "# Are all our trials in here?\n",
    "updated_selection3[updated_selection3['NCT Number']=='NCT01364012']"
   ]
  },
  {
   "cell_type": "markdown",
   "metadata": {},
   "source": [
    "# Read in processed file from Ruishan with sample sizes\n",
    "\n",
    "Sample sizes in flatiron for the trials we started with are: \n",
    "* NCT02008227: n1=282, n2=941\n",
    "* NCT01642004: n1=3759, n2=941\n",
    "* NCT01673867: n=3759, n2=941\n",
    "* NCT02613507: n1=3759, n2=941\n",
    "\n",
    "Rule of thumb:\n",
    "Choose sample sizes that are higher than 900 in both arms"
   ]
  },
  {
   "cell_type": "code",
   "execution_count": 75,
   "metadata": {},
   "outputs": [],
   "source": [
    "processed_selection = pd.read_csv(path+'processed_Updated_selection_Three_Filters.csv')"
   ]
  },
  {
   "cell_type": "code",
   "execution_count": 76,
   "metadata": {},
   "outputs": [
    {
     "data": {
      "text/plain": [
       "172"
      ]
     },
     "execution_count": 76,
     "metadata": {},
     "output_type": "execute_result"
    }
   ],
   "source": [
    "len(processed_selection)"
   ]
  },
  {
   "cell_type": "code",
   "execution_count": 77,
   "metadata": {},
   "outputs": [],
   "source": [
    "updated_selection4 = processed_selection[(processed_selection['Total drugs_in_arm1']>=250)&\n",
    "                   (processed_selection['Total drugs_in_arm2']>=250)]"
   ]
  },
  {
   "cell_type": "code",
   "execution_count": 78,
   "metadata": {},
   "outputs": [
    {
     "data": {
      "text/plain": [
       "67"
      ]
     },
     "execution_count": 78,
     "metadata": {},
     "output_type": "execute_result"
    }
   ],
   "source": [
    "len(updated_selection4)"
   ]
  },
  {
   "cell_type": "code",
   "execution_count": 198,
   "metadata": {},
   "outputs": [],
   "source": [
    "#updated_selection4.to_csv('updated_selection4.csv')"
   ]
  },
  {
   "cell_type": "markdown",
   "metadata": {},
   "source": [
    "# Filter by phase III"
   ]
  },
  {
   "cell_type": "code",
   "execution_count": 89,
   "metadata": {},
   "outputs": [],
   "source": [
    "Phase3or4 = updated_selection3[(updated_selection3['Phases']=='Phase 3')|(updated_selection3['Phases']=='Phase 4') |\n",
    "                              (updated_selection3['Phases']=='Phase 2|Phase 3')]\n",
    "Phase3or4=Phase3or4[['NCT Number', 'Phases']]"
   ]
  },
  {
   "cell_type": "code",
   "execution_count": 90,
   "metadata": {},
   "outputs": [
    {
     "data": {
      "text/plain": [
       "Phase 2            93\n",
       "Phase 3            37\n",
       "Phase 1            17\n",
       "Phase 1|Phase 2    17\n",
       "Phase 4             5\n",
       "Not Applicable      2\n",
       "Phase 2|Phase 3     1\n",
       "Name: Phases, dtype: int64"
      ]
     },
     "execution_count": 90,
     "metadata": {},
     "output_type": "execute_result"
    }
   ],
   "source": [
    "updated_selection3['Phases'].value_counts()"
   ]
  },
  {
   "cell_type": "code",
   "execution_count": 91,
   "metadata": {},
   "outputs": [],
   "source": [
    "final_selection = updated_selection4.merge(Phase3or4, on='NCT Number')"
   ]
  },
  {
   "cell_type": "code",
   "execution_count": 92,
   "metadata": {},
   "outputs": [
    {
     "data": {
      "text/plain": [
       "20"
      ]
     },
     "execution_count": 92,
     "metadata": {},
     "output_type": "execute_result"
    }
   ],
   "source": [
    "len(final_selection)"
   ]
  },
  {
   "cell_type": "code",
   "execution_count": 94,
   "metadata": {},
   "outputs": [],
   "source": [
    "final_selection.to_csv('final_selection_lung_trials.csv')"
   ]
  },
  {
   "cell_type": "code",
   "execution_count": 93,
   "metadata": {},
   "outputs": [
    {
     "data": {
      "text/html": [
       "<div>\n",
       "<style scoped>\n",
       "    .dataframe tbody tr th:only-of-type {\n",
       "        vertical-align: middle;\n",
       "    }\n",
       "\n",
       "    .dataframe tbody tr th {\n",
       "        vertical-align: top;\n",
       "    }\n",
       "\n",
       "    .dataframe thead th {\n",
       "        text-align: right;\n",
       "    }\n",
       "</style>\n",
       "<table border=\"1\" class=\"dataframe\">\n",
       "  <thead>\n",
       "    <tr style=\"text-align: right;\">\n",
       "      <th></th>\n",
       "      <th>Unnamed: 0</th>\n",
       "      <th>Unnamed: 0.1</th>\n",
       "      <th>NCT Number</th>\n",
       "      <th>drugs_in_arm1</th>\n",
       "      <th>drugs_in_arm2</th>\n",
       "      <th>arm1_has_drug_combo</th>\n",
       "      <th>arm2_has_drug_combo</th>\n",
       "      <th>Total drugs_in_arm1</th>\n",
       "      <th>1L drugs_in_arm1</th>\n",
       "      <th>2L drugs_in_arm1</th>\n",
       "      <th>Total drugs_in_arm2</th>\n",
       "      <th>1L drugs_in_arm2</th>\n",
       "      <th>2L drugs_in_arm2</th>\n",
       "      <th>Phases</th>\n",
       "    </tr>\n",
       "  </thead>\n",
       "  <tbody>\n",
       "    <tr>\n",
       "      <th>0</th>\n",
       "      <td>10</td>\n",
       "      <td>10</td>\n",
       "      <td>NCT02613507</td>\n",
       "      <td>nivolumab</td>\n",
       "      <td>docetaxel</td>\n",
       "      <td>False</td>\n",
       "      <td>False</td>\n",
       "      <td>7554</td>\n",
       "      <td>1760</td>\n",
       "      <td>3906</td>\n",
       "      <td>2102</td>\n",
       "      <td>330</td>\n",
       "      <td>975</td>\n",
       "      <td>Phase 3</td>\n",
       "    </tr>\n",
       "    <tr>\n",
       "      <th>1</th>\n",
       "      <td>12</td>\n",
       "      <td>12</td>\n",
       "      <td>NCT02075840</td>\n",
       "      <td>alectinib</td>\n",
       "      <td>crizotinib</td>\n",
       "      <td>False</td>\n",
       "      <td>False</td>\n",
       "      <td>379</td>\n",
       "      <td>144</td>\n",
       "      <td>117</td>\n",
       "      <td>763</td>\n",
       "      <td>525</td>\n",
       "      <td>153</td>\n",
       "      <td>Phase 3</td>\n",
       "    </tr>\n",
       "    <tr>\n",
       "      <th>2</th>\n",
       "      <td>17</td>\n",
       "      <td>17</td>\n",
       "      <td>NCT00391274</td>\n",
       "      <td>pemetrexed</td>\n",
       "      <td>docetaxel</td>\n",
       "      <td>False</td>\n",
       "      <td>False</td>\n",
       "      <td>2670</td>\n",
       "      <td>1037</td>\n",
       "      <td>1126</td>\n",
       "      <td>2102</td>\n",
       "      <td>330</td>\n",
       "      <td>975</td>\n",
       "      <td>Phase 3</td>\n",
       "    </tr>\n",
       "    <tr>\n",
       "      <th>3</th>\n",
       "      <td>22</td>\n",
       "      <td>22</td>\n",
       "      <td>NCT00441922</td>\n",
       "      <td>docetaxel</td>\n",
       "      <td>vinorelbine</td>\n",
       "      <td>False</td>\n",
       "      <td>False</td>\n",
       "      <td>2102</td>\n",
       "      <td>330</td>\n",
       "      <td>975</td>\n",
       "      <td>1072</td>\n",
       "      <td>194</td>\n",
       "      <td>235</td>\n",
       "      <td>Phase 3</td>\n",
       "    </tr>\n",
       "    <tr>\n",
       "      <th>4</th>\n",
       "      <td>28</td>\n",
       "      <td>28</td>\n",
       "      <td>NCT00874419</td>\n",
       "      <td>erlotinib</td>\n",
       "      <td>gemcitabine, carboplatin</td>\n",
       "      <td>False</td>\n",
       "      <td>True</td>\n",
       "      <td>4655</td>\n",
       "      <td>2945</td>\n",
       "      <td>1026</td>\n",
       "      <td>1860</td>\n",
       "      <td>1162</td>\n",
       "      <td>429</td>\n",
       "      <td>Phase 3</td>\n",
       "    </tr>\n",
       "    <tr>\n",
       "      <th>5</th>\n",
       "      <td>29</td>\n",
       "      <td>29</td>\n",
       "      <td>NCT01905657</td>\n",
       "      <td>pembrolizumab</td>\n",
       "      <td>docetaxel</td>\n",
       "      <td>False</td>\n",
       "      <td>False</td>\n",
       "      <td>3453</td>\n",
       "      <td>2259</td>\n",
       "      <td>836</td>\n",
       "      <td>2102</td>\n",
       "      <td>330</td>\n",
       "      <td>975</td>\n",
       "      <td>Phase 2|Phase 3</td>\n",
       "    </tr>\n",
       "    <tr>\n",
       "      <th>6</th>\n",
       "      <td>34</td>\n",
       "      <td>34</td>\n",
       "      <td>NCT01642004</td>\n",
       "      <td>nivolumab</td>\n",
       "      <td>docetaxel</td>\n",
       "      <td>False</td>\n",
       "      <td>False</td>\n",
       "      <td>7554</td>\n",
       "      <td>1760</td>\n",
       "      <td>3906</td>\n",
       "      <td>2102</td>\n",
       "      <td>330</td>\n",
       "      <td>975</td>\n",
       "      <td>Phase 3</td>\n",
       "    </tr>\n",
       "    <tr>\n",
       "      <th>7</th>\n",
       "      <td>35</td>\n",
       "      <td>35</td>\n",
       "      <td>NCT02008227</td>\n",
       "      <td>atezolizumab</td>\n",
       "      <td>docetaxel</td>\n",
       "      <td>False</td>\n",
       "      <td>False</td>\n",
       "      <td>623</td>\n",
       "      <td>142</td>\n",
       "      <td>295</td>\n",
       "      <td>2102</td>\n",
       "      <td>330</td>\n",
       "      <td>975</td>\n",
       "      <td>Phase 3</td>\n",
       "    </tr>\n",
       "    <tr>\n",
       "      <th>8</th>\n",
       "      <td>38</td>\n",
       "      <td>38</td>\n",
       "      <td>NCT02838420</td>\n",
       "      <td>alectinib</td>\n",
       "      <td>crizotinib</td>\n",
       "      <td>False</td>\n",
       "      <td>False</td>\n",
       "      <td>379</td>\n",
       "      <td>144</td>\n",
       "      <td>117</td>\n",
       "      <td>763</td>\n",
       "      <td>525</td>\n",
       "      <td>153</td>\n",
       "      <td>Phase 3</td>\n",
       "    </tr>\n",
       "    <tr>\n",
       "      <th>9</th>\n",
       "      <td>58</td>\n",
       "      <td>58</td>\n",
       "      <td>NCT00442026</td>\n",
       "      <td>docetaxel</td>\n",
       "      <td>gemcitabine</td>\n",
       "      <td>False</td>\n",
       "      <td>False</td>\n",
       "      <td>2102</td>\n",
       "      <td>330</td>\n",
       "      <td>975</td>\n",
       "      <td>2264</td>\n",
       "      <td>407</td>\n",
       "      <td>781</td>\n",
       "      <td>Phase 3</td>\n",
       "    </tr>\n",
       "    <tr>\n",
       "      <th>10</th>\n",
       "      <td>60</td>\n",
       "      <td>60</td>\n",
       "      <td>NCT00637910</td>\n",
       "      <td>erlotinib</td>\n",
       "      <td>docetaxel</td>\n",
       "      <td>False</td>\n",
       "      <td>False</td>\n",
       "      <td>4655</td>\n",
       "      <td>2945</td>\n",
       "      <td>1026</td>\n",
       "      <td>2102</td>\n",
       "      <td>330</td>\n",
       "      <td>975</td>\n",
       "      <td>Phase 3</td>\n",
       "    </tr>\n",
       "    <tr>\n",
       "      <th>11</th>\n",
       "      <td>67</td>\n",
       "      <td>67</td>\n",
       "      <td>NCT01673867</td>\n",
       "      <td>nivolumab</td>\n",
       "      <td>docetaxel</td>\n",
       "      <td>False</td>\n",
       "      <td>False</td>\n",
       "      <td>7554</td>\n",
       "      <td>1760</td>\n",
       "      <td>3906</td>\n",
       "      <td>2102</td>\n",
       "      <td>330</td>\n",
       "      <td>975</td>\n",
       "      <td>Phase 3</td>\n",
       "    </tr>\n",
       "    <tr>\n",
       "      <th>12</th>\n",
       "      <td>73</td>\n",
       "      <td>73</td>\n",
       "      <td>NCT02864394</td>\n",
       "      <td>pembrolizumab</td>\n",
       "      <td>docetaxel</td>\n",
       "      <td>False</td>\n",
       "      <td>False</td>\n",
       "      <td>3453</td>\n",
       "      <td>2259</td>\n",
       "      <td>836</td>\n",
       "      <td>2102</td>\n",
       "      <td>330</td>\n",
       "      <td>975</td>\n",
       "      <td>Phase 3</td>\n",
       "    </tr>\n",
       "    <tr>\n",
       "      <th>13</th>\n",
       "      <td>86</td>\n",
       "      <td>86</td>\n",
       "      <td>NCT03460678</td>\n",
       "      <td>pemetrexed</td>\n",
       "      <td>erlotinib</td>\n",
       "      <td>False</td>\n",
       "      <td>False</td>\n",
       "      <td>2670</td>\n",
       "      <td>1037</td>\n",
       "      <td>1126</td>\n",
       "      <td>4655</td>\n",
       "      <td>2945</td>\n",
       "      <td>1026</td>\n",
       "      <td>Phase 4</td>\n",
       "    </tr>\n",
       "    <tr>\n",
       "      <th>14</th>\n",
       "      <td>88</td>\n",
       "      <td>88</td>\n",
       "      <td>NCT01652469</td>\n",
       "      <td>erlotinib</td>\n",
       "      <td>docetaxel</td>\n",
       "      <td>False</td>\n",
       "      <td>False</td>\n",
       "      <td>4655</td>\n",
       "      <td>2945</td>\n",
       "      <td>1026</td>\n",
       "      <td>2102</td>\n",
       "      <td>330</td>\n",
       "      <td>975</td>\n",
       "      <td>Phase 3</td>\n",
       "    </tr>\n",
       "    <tr>\n",
       "      <th>15</th>\n",
       "      <td>107</td>\n",
       "      <td>107</td>\n",
       "      <td>NCT01523587</td>\n",
       "      <td>afatinib</td>\n",
       "      <td>erlotinib</td>\n",
       "      <td>False</td>\n",
       "      <td>False</td>\n",
       "      <td>1046</td>\n",
       "      <td>502</td>\n",
       "      <td>334</td>\n",
       "      <td>4655</td>\n",
       "      <td>2945</td>\n",
       "      <td>1026</td>\n",
       "      <td>Phase 3</td>\n",
       "    </tr>\n",
       "    <tr>\n",
       "      <th>16</th>\n",
       "      <td>131</td>\n",
       "      <td>131</td>\n",
       "      <td>NCT00440414</td>\n",
       "      <td>erlotinib</td>\n",
       "      <td>pemetrexed</td>\n",
       "      <td>False</td>\n",
       "      <td>False</td>\n",
       "      <td>4655</td>\n",
       "      <td>2945</td>\n",
       "      <td>1026</td>\n",
       "      <td>2670</td>\n",
       "      <td>1037</td>\n",
       "      <td>1126</td>\n",
       "      <td>Phase 3</td>\n",
       "    </tr>\n",
       "    <tr>\n",
       "      <th>17</th>\n",
       "      <td>133</td>\n",
       "      <td>133</td>\n",
       "      <td>NCT01196078</td>\n",
       "      <td>erlotinib</td>\n",
       "      <td>vinorelbine</td>\n",
       "      <td>False</td>\n",
       "      <td>False</td>\n",
       "      <td>4655</td>\n",
       "      <td>2945</td>\n",
       "      <td>1026</td>\n",
       "      <td>1072</td>\n",
       "      <td>194</td>\n",
       "      <td>235</td>\n",
       "      <td>Phase 4</td>\n",
       "    </tr>\n",
       "    <tr>\n",
       "      <th>18</th>\n",
       "      <td>149</td>\n",
       "      <td>149</td>\n",
       "      <td>NCT00003447</td>\n",
       "      <td>gemcitabine</td>\n",
       "      <td>vinorelbine</td>\n",
       "      <td>False</td>\n",
       "      <td>False</td>\n",
       "      <td>2264</td>\n",
       "      <td>407</td>\n",
       "      <td>781</td>\n",
       "      <td>1072</td>\n",
       "      <td>194</td>\n",
       "      <td>235</td>\n",
       "      <td>Phase 3</td>\n",
       "    </tr>\n",
       "    <tr>\n",
       "      <th>19</th>\n",
       "      <td>166</td>\n",
       "      <td>166</td>\n",
       "      <td>NCT00738881</td>\n",
       "      <td>erlotinib</td>\n",
       "      <td>pemetrexed</td>\n",
       "      <td>False</td>\n",
       "      <td>False</td>\n",
       "      <td>4655</td>\n",
       "      <td>2945</td>\n",
       "      <td>1026</td>\n",
       "      <td>2670</td>\n",
       "      <td>1037</td>\n",
       "      <td>1126</td>\n",
       "      <td>Phase 3</td>\n",
       "    </tr>\n",
       "  </tbody>\n",
       "</table>\n",
       "</div>"
      ],
      "text/plain": [
       "    Unnamed: 0  Unnamed: 0.1   NCT Number  drugs_in_arm1  \\\n",
       "0           10            10  NCT02613507      nivolumab   \n",
       "1           12            12  NCT02075840      alectinib   \n",
       "2           17            17  NCT00391274     pemetrexed   \n",
       "3           22            22  NCT00441922      docetaxel   \n",
       "4           28            28  NCT00874419      erlotinib   \n",
       "5           29            29  NCT01905657  pembrolizumab   \n",
       "6           34            34  NCT01642004      nivolumab   \n",
       "7           35            35  NCT02008227   atezolizumab   \n",
       "8           38            38  NCT02838420      alectinib   \n",
       "9           58            58  NCT00442026      docetaxel   \n",
       "10          60            60  NCT00637910      erlotinib   \n",
       "11          67            67  NCT01673867      nivolumab   \n",
       "12          73            73  NCT02864394  pembrolizumab   \n",
       "13          86            86  NCT03460678     pemetrexed   \n",
       "14          88            88  NCT01652469      erlotinib   \n",
       "15         107           107  NCT01523587       afatinib   \n",
       "16         131           131  NCT00440414      erlotinib   \n",
       "17         133           133  NCT01196078      erlotinib   \n",
       "18         149           149  NCT00003447    gemcitabine   \n",
       "19         166           166  NCT00738881      erlotinib   \n",
       "\n",
       "               drugs_in_arm2  arm1_has_drug_combo  arm2_has_drug_combo  \\\n",
       "0                  docetaxel                False                False   \n",
       "1                 crizotinib                False                False   \n",
       "2                  docetaxel                False                False   \n",
       "3                vinorelbine                False                False   \n",
       "4   gemcitabine, carboplatin                False                 True   \n",
       "5                  docetaxel                False                False   \n",
       "6                  docetaxel                False                False   \n",
       "7                  docetaxel                False                False   \n",
       "8                 crizotinib                False                False   \n",
       "9                gemcitabine                False                False   \n",
       "10                 docetaxel                False                False   \n",
       "11                 docetaxel                False                False   \n",
       "12                 docetaxel                False                False   \n",
       "13                 erlotinib                False                False   \n",
       "14                 docetaxel                False                False   \n",
       "15                 erlotinib                False                False   \n",
       "16                pemetrexed                False                False   \n",
       "17               vinorelbine                False                False   \n",
       "18               vinorelbine                False                False   \n",
       "19                pemetrexed                False                False   \n",
       "\n",
       "    Total drugs_in_arm1  1L drugs_in_arm1  2L drugs_in_arm1  \\\n",
       "0                  7554              1760              3906   \n",
       "1                   379               144               117   \n",
       "2                  2670              1037              1126   \n",
       "3                  2102               330               975   \n",
       "4                  4655              2945              1026   \n",
       "5                  3453              2259               836   \n",
       "6                  7554              1760              3906   \n",
       "7                   623               142               295   \n",
       "8                   379               144               117   \n",
       "9                  2102               330               975   \n",
       "10                 4655              2945              1026   \n",
       "11                 7554              1760              3906   \n",
       "12                 3453              2259               836   \n",
       "13                 2670              1037              1126   \n",
       "14                 4655              2945              1026   \n",
       "15                 1046               502               334   \n",
       "16                 4655              2945              1026   \n",
       "17                 4655              2945              1026   \n",
       "18                 2264               407               781   \n",
       "19                 4655              2945              1026   \n",
       "\n",
       "    Total drugs_in_arm2  1L drugs_in_arm2  2L drugs_in_arm2           Phases  \n",
       "0                  2102               330               975          Phase 3  \n",
       "1                   763               525               153          Phase 3  \n",
       "2                  2102               330               975          Phase 3  \n",
       "3                  1072               194               235          Phase 3  \n",
       "4                  1860              1162               429          Phase 3  \n",
       "5                  2102               330               975  Phase 2|Phase 3  \n",
       "6                  2102               330               975          Phase 3  \n",
       "7                  2102               330               975          Phase 3  \n",
       "8                   763               525               153          Phase 3  \n",
       "9                  2264               407               781          Phase 3  \n",
       "10                 2102               330               975          Phase 3  \n",
       "11                 2102               330               975          Phase 3  \n",
       "12                 2102               330               975          Phase 3  \n",
       "13                 4655              2945              1026          Phase 4  \n",
       "14                 2102               330               975          Phase 3  \n",
       "15                 4655              2945              1026          Phase 3  \n",
       "16                 2670              1037              1126          Phase 3  \n",
       "17                 1072               194               235          Phase 4  \n",
       "18                 1072               194               235          Phase 3  \n",
       "19                 2670              1037              1126          Phase 3  "
      ]
     },
     "execution_count": 93,
     "metadata": {},
     "output_type": "execute_result"
    }
   ],
   "source": [
    "final_selection"
   ]
  },
  {
   "cell_type": "code",
   "execution_count": 99,
   "metadata": {
    "scrolled": true
   },
   "outputs": [
    {
     "data": {
      "text/html": [
       "<div>\n",
       "<style scoped>\n",
       "    .dataframe tbody tr th:only-of-type {\n",
       "        vertical-align: middle;\n",
       "    }\n",
       "\n",
       "    .dataframe tbody tr th {\n",
       "        vertical-align: top;\n",
       "    }\n",
       "\n",
       "    .dataframe thead th {\n",
       "        text-align: right;\n",
       "    }\n",
       "</style>\n",
       "<table border=\"1\" class=\"dataframe\">\n",
       "  <thead>\n",
       "    <tr style=\"text-align: right;\">\n",
       "      <th></th>\n",
       "      <th>640</th>\n",
       "    </tr>\n",
       "  </thead>\n",
       "  <tbody>\n",
       "    <tr>\n",
       "      <th>Rank</th>\n",
       "      <td>641</td>\n",
       "    </tr>\n",
       "    <tr>\n",
       "      <th>NCT Number</th>\n",
       "      <td>NCT00441922</td>\n",
       "    </tr>\n",
       "    <tr>\n",
       "      <th>Title</th>\n",
       "      <td>Trial of Docetaxel Versus Vinorelbine as 1st L...</td>\n",
       "    </tr>\n",
       "    <tr>\n",
       "      <th>Acronym</th>\n",
       "      <td>NaN</td>\n",
       "    </tr>\n",
       "    <tr>\n",
       "      <th>Status</th>\n",
       "      <td>Completed</td>\n",
       "    </tr>\n",
       "    <tr>\n",
       "      <th>Study Results</th>\n",
       "      <td>No Results Available</td>\n",
       "    </tr>\n",
       "    <tr>\n",
       "      <th>Conditions</th>\n",
       "      <td>Non Small Cell Lung Cancer</td>\n",
       "    </tr>\n",
       "    <tr>\n",
       "      <th>Interventions</th>\n",
       "      <td>Drug: Docetaxel|Drug: Vinorelbine</td>\n",
       "    </tr>\n",
       "    <tr>\n",
       "      <th>Outcome Measures</th>\n",
       "      <td>Overall survival between the two treatment arm...</td>\n",
       "    </tr>\n",
       "    <tr>\n",
       "      <th>Sponsor/Collaborators</th>\n",
       "      <td>Hellenic Oncology Research Group|University Ho...</td>\n",
       "    </tr>\n",
       "    <tr>\n",
       "      <th>Gender</th>\n",
       "      <td>All</td>\n",
       "    </tr>\n",
       "    <tr>\n",
       "      <th>Age</th>\n",
       "      <td>65 Years to 80 Years   (Older Adult)</td>\n",
       "    </tr>\n",
       "    <tr>\n",
       "      <th>Phases</th>\n",
       "      <td>Phase 3</td>\n",
       "    </tr>\n",
       "    <tr>\n",
       "      <th>Enrollment</th>\n",
       "      <td>166</td>\n",
       "    </tr>\n",
       "    <tr>\n",
       "      <th>Funded Bys</th>\n",
       "      <td>Other</td>\n",
       "    </tr>\n",
       "    <tr>\n",
       "      <th>Study Type</th>\n",
       "      <td>Interventional</td>\n",
       "    </tr>\n",
       "    <tr>\n",
       "      <th>Study Designs</th>\n",
       "      <td>Allocation: Randomized|Intervention Model: Par...</td>\n",
       "    </tr>\n",
       "    <tr>\n",
       "      <th>Other IDs</th>\n",
       "      <td>CT/03.07</td>\n",
       "    </tr>\n",
       "    <tr>\n",
       "      <th>Start Date</th>\n",
       "      <td>January 2003</td>\n",
       "    </tr>\n",
       "    <tr>\n",
       "      <th>Primary Completion Date</th>\n",
       "      <td>January 2008</td>\n",
       "    </tr>\n",
       "    <tr>\n",
       "      <th>Completion Date</th>\n",
       "      <td>January 2008</td>\n",
       "    </tr>\n",
       "    <tr>\n",
       "      <th>First Posted</th>\n",
       "      <td>March 1, 2007</td>\n",
       "    </tr>\n",
       "    <tr>\n",
       "      <th>Results First Posted</th>\n",
       "      <td>NaN</td>\n",
       "    </tr>\n",
       "    <tr>\n",
       "      <th>Last Update Posted</th>\n",
       "      <td>October 29, 2008</td>\n",
       "    </tr>\n",
       "    <tr>\n",
       "      <th>Locations</th>\n",
       "      <td>University General Hospital of Alexandroupolis...</td>\n",
       "    </tr>\n",
       "    <tr>\n",
       "      <th>Study Documents</th>\n",
       "      <td>NaN</td>\n",
       "    </tr>\n",
       "    <tr>\n",
       "      <th>URL</th>\n",
       "      <td>https://ClinicalTrials.gov/show/NCT00441922</td>\n",
       "    </tr>\n",
       "    <tr>\n",
       "      <th>arms</th>\n",
       "      <td>2</td>\n",
       "    </tr>\n",
       "  </tbody>\n",
       "</table>\n",
       "</div>"
      ],
      "text/plain": [
       "                                                                       640\n",
       "Rank                                                                   641\n",
       "NCT Number                                                     NCT00441922\n",
       "Title                    Trial of Docetaxel Versus Vinorelbine as 1st L...\n",
       "Acronym                                                                NaN\n",
       "Status                                                           Completed\n",
       "Study Results                                         No Results Available\n",
       "Conditions                                      Non Small Cell Lung Cancer\n",
       "Interventions                            Drug: Docetaxel|Drug: Vinorelbine\n",
       "Outcome Measures         Overall survival between the two treatment arm...\n",
       "Sponsor/Collaborators    Hellenic Oncology Research Group|University Ho...\n",
       "Gender                                                                 All\n",
       "Age                                   65 Years to 80 Years   (Older Adult)\n",
       "Phases                                                             Phase 3\n",
       "Enrollment                                                             166\n",
       "Funded Bys                                                           Other\n",
       "Study Type                                                  Interventional\n",
       "Study Designs            Allocation: Randomized|Intervention Model: Par...\n",
       "Other IDs                                                         CT/03.07\n",
       "Start Date                                                    January 2003\n",
       "Primary Completion Date                                       January 2008\n",
       "Completion Date                                               January 2008\n",
       "First Posted                                                 March 1, 2007\n",
       "Results First Posted                                                   NaN\n",
       "Last Update Posted                                        October 29, 2008\n",
       "Locations                University General Hospital of Alexandroupolis...\n",
       "Study Documents                                                        NaN\n",
       "URL                            https://ClinicalTrials.gov/show/NCT00441922\n",
       "arms                                                                     2"
      ]
     },
     "execution_count": 99,
     "metadata": {},
     "output_type": "execute_result"
    }
   ],
   "source": [
    "# Misleading trial, has entry \"Phase 3\", but title says \"Phase 2\"\n",
    "initial_selection[initial_selection['NCT Number']=='NCT00441922'].T"
   ]
  },
  {
   "cell_type": "code",
   "execution_count": null,
   "metadata": {},
   "outputs": [],
   "source": []
  },
  {
   "cell_type": "code",
   "execution_count": null,
   "metadata": {},
   "outputs": [],
   "source": []
  },
  {
   "cell_type": "code",
   "execution_count": null,
   "metadata": {},
   "outputs": [],
   "source": []
  },
  {
   "cell_type": "code",
   "execution_count": null,
   "metadata": {},
   "outputs": [],
   "source": []
  },
  {
   "cell_type": "code",
   "execution_count": null,
   "metadata": {},
   "outputs": [],
   "source": []
  },
  {
   "cell_type": "code",
   "execution_count": null,
   "metadata": {},
   "outputs": [],
   "source": []
  },
  {
   "cell_type": "code",
   "execution_count": null,
   "metadata": {},
   "outputs": [],
   "source": []
  },
  {
   "cell_type": "code",
   "execution_count": null,
   "metadata": {},
   "outputs": [],
   "source": []
  },
  {
   "cell_type": "code",
   "execution_count": null,
   "metadata": {},
   "outputs": [],
   "source": []
  }
 ],
 "metadata": {
  "kernelspec": {
   "display_name": "Python 3",
   "language": "python",
   "name": "python3"
  },
  "language_info": {
   "codemirror_mode": {
    "name": "ipython",
    "version": 3
   },
   "file_extension": ".py",
   "mimetype": "text/x-python",
   "name": "python",
   "nbconvert_exporter": "python",
   "pygments_lexer": "ipython3",
   "version": "3.7.3"
  }
 },
 "nbformat": 4,
 "nbformat_minor": 2
}
