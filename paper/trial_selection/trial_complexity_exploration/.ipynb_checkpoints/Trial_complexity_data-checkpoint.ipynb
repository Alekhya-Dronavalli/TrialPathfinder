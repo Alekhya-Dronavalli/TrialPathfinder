{
 "cells": [
  {
   "cell_type": "markdown",
   "metadata": {},
   "source": [
    "# Extract the useful subset of studies from trial complexity data\n",
    "\n",
    "Created by: Shemra Rizzo\n",
    "Date created: Nov 24, 2020"
   ]
  },
  {
   "cell_type": "code",
   "execution_count": 1,
   "metadata": {},
   "outputs": [],
   "source": [
    "# Libraries\n",
    "import pandas as pd\n",
    "import numpy as np"
   ]
  },
  {
   "cell_type": "code",
   "execution_count": 3,
   "metadata": {},
   "outputs": [],
   "source": [
    "#path = '~/Documents/Projects/2_Project_Vector/'\n",
    "trial_complexity_data = pd.read_csv('trial_complexity.csv')"
   ]
  },
  {
   "cell_type": "code",
   "execution_count": 5,
   "metadata": {},
   "outputs": [],
   "source": [
    "studies_in_supplement = [\n",
    "'MO25515',\n",
    "'NO25390',\n",
    "'GO28053',\n",
    "'GO28625',\n",
    "'GO28754',\n",
    "'YO29232',\n",
    "'YO29233',\n",
    "'GO40241',\n",
    "'ML40471',\n",
    "'BO22334',\n",
    "'GO01298',\n",
    "'YP25623',\n",
    "'ML29167',\n",
    "'ML29538',\n",
    "'MO27782',\n",
    "'MO28113',\n",
    "'ML28589',\n",
    "'ML28879',\n",
    "'ML28794',\n",
    "'GO29058',\n",
    "'ML29282',\n",
    "'YO29296',\n",
    "'ML29662',\n",
    "'GO30182',\n",
    "'CO39083'\n",
    "]"
   ]
  },
  {
   "cell_type": "code",
   "execution_count": 7,
   "metadata": {},
   "outputs": [],
   "source": [
    "subset = trial_complexity_data[trial_complexity_data['STUDY_NUMBER'].isin(studies_in_supplement)]"
   ]
  },
  {
   "cell_type": "code",
   "execution_count": 18,
   "metadata": {},
   "outputs": [],
   "source": [
    "columns_of_interest = ['STUDY_NUMBER', 'STUDY_FULL_TITLE', 'STUDY_SHORT_TITLE',\n",
    "       'STUDY_ACRONIM', 'STUDY_STATUS', 'DB_LOCK_FLAG', 'STUDY_PHASE_GROUP',\n",
    "       'STUDY_PHASE', 'STUDY_TYPE', 'THERAPEUTIC_AREA_REP', 'THERAPEUTIC_AREA',\n",
    "       'DTA', 'INDICATION', 'INDICATION_REP', 'DISTRIBUTION', 'COMPARISON',\n",
    "       'RANDOMIZATION', 'INTERVENTIONAL_STUDY_MODEL', 'BLINDING',\n",
    "       'EXECUTING_PARTY', 'OUTSOURCED', 'TARGET_NUM_COUNTRIES', 'OBJECTIVE',\n",
    "       'STUDY_KEYWORDS', 'INCLUSION_CRITERIA', 'NUM_OF_DRAGS', 'DRUG_PRIMARY_NAME',\n",
    "       'DRUG_NAMES', 'THERAPEUTIC_CLASSES', 'ACTUAL_ENROLLED_STUDY', 'PLANNED_ENROLLMENT',\n",
    "                       'WITHDRAWAL_RATIO' , 'SCREENING_RATE',\n",
    "       'ENROLLMENT_RATE', 'SCREEN_FAIL_RATIO', 'NUM_ALL_AE', 'NUM_AE',\n",
    "       'NUM_SAE', 'SCREENING_SUCCESS_RATIO',\n",
    "       'SCREEN_FAIL_DECLINED_TO_PARTICIPATE', 'SCREEN_FAIL_INCLUSION',\n",
    "       'SCREEN_FAIL_EXCLUSION', 'WITHDRAWN_ADVERSE_EVENTS',\n",
    "       'WITHDRAWN_SUBJECTIVE', 'WITHDRAWN_NON_COMPLIANCE',\n",
    "       'WITHDRAWN_PROTOCOL_DEVIATIONS', 'WITHDRAWN_SAFETY',\n",
    "       'WITHDRAWN_OTHER_PRE_SPECIFIED', 'WITHDRAWN_OTHER',\n",
    "       'WITHDRAWN_ADVERSE_EVENTS_RATIO', 'WITHDRAWN_SUBJECTIVE_RATIO',\n",
    "       'WITHDRAWN_NON_COMPLIANCE_RATIO', 'WITHDRAWN_PROTOCOL_DEVIATIONS_RATIO',\n",
    "       'WITHDRAWN_SAFETY_RATIO', 'WITHDRAWN_OTHER_PRE_SPECIFIED_RATIO',\n",
    "       'WITHDRAWN_OTHER_RATIO']"
   ]
  },
  {
   "cell_type": "code",
   "execution_count": 20,
   "metadata": {},
   "outputs": [],
   "source": [
    "subset = subset[columns_of_interest]"
   ]
  },
  {
   "cell_type": "code",
   "execution_count": 21,
   "metadata": {},
   "outputs": [],
   "source": [
    "# save subset\n",
    "subset.to_csv('trial_pathfinder_subset_in_supplement.csv')"
   ]
  },
  {
   "cell_type": "code",
   "execution_count": 26,
   "metadata": {},
   "outputs": [
    {
     "data": {
      "text/plain": [
       "Index(['STUDY_NUMBER', 'STUDY_FULL_TITLE', 'STUDY_SHORT_TITLE',\n",
       "       'STUDY_ACRONIM', 'STUDY_STATUS', 'DB_LOCK_FLAG', 'STUDY_PHASE_GROUP',\n",
       "       'STUDY_PHASE', 'STUDY_TYPE', 'THERAPEUTIC_AREA_REP', 'THERAPEUTIC_AREA',\n",
       "       'DTA', 'INDICATION', 'INDICATION_REP', 'DISTRIBUTION', 'COMPARISON',\n",
       "       'RANDOMIZATION', 'INTERVENTIONAL_STUDY_MODEL', 'BLINDING',\n",
       "       'EXECUTING_PARTY', 'OUTSOURCED', 'TARGET_NUM_COUNTRIES', 'OBJECTIVE',\n",
       "       'STUDY_KEYWORDS', 'INCLUSION_CRITERIA', 'EXCLUSION_CRITERIA',\n",
       "       'PAT_CRIT_MIN_AGE', 'PAT_CRIT_MAX_AGE', 'PAT_CRIT_GENDER',\n",
       "       'ACTUAL_TREATMENT_DURATION', 'NUM_OF_DRAGS', 'DRUG_PRIMARY_NAME',\n",
       "       'DRUG_NAMES', 'THERAPEUTIC_CLASSES', 'NUM_PRIMARY_ENDPOINTS',\n",
       "       'NUM_SECONDARY_ENDPOINTS', 'PRIMARY_ENDPOINTS', 'SECONDARY_ENDPOINTS',\n",
       "       'NUM_OF_ARMS', 'LIST_OF_ARMS', 'NUM_BIOMARKERS', 'LIST_BIOMARKERS',\n",
       "       'NUM_ACTUAL_STUDY_SITES', 'NUM_PLANNED_STUDY_SITES',\n",
       "       'ACTUAL_ENROLLED_STUDY', 'PLANNED_ENROLLMENT', 'WITHDRAWAL_RATIO',\n",
       "       'CYCLES', 'NR_PRIMARY_INVESTIGATORS', 'NUM_PROTOCOL_VERSION'],\n",
       "      dtype='object')"
      ]
     },
     "execution_count": 26,
     "metadata": {},
     "output_type": "execute_result"
    }
   ],
   "source": [
    "trial_complexity_data.columns[0:50]"
   ]
  },
  {
   "cell_type": "code",
   "execution_count": 27,
   "metadata": {},
   "outputs": [
    {
     "data": {
      "text/plain": [
       "Index(['STUDY_NUMBER', 'STUDY_FULL_TITLE', 'STUDY_SHORT_TITLE',\n",
       "       'STUDY_ACRONIM', 'STUDY_STATUS', 'DB_LOCK_FLAG', 'STUDY_PHASE_GROUP',\n",
       "       'STUDY_PHASE', 'STUDY_TYPE', 'THERAPEUTIC_AREA_REP', 'THERAPEUTIC_AREA',\n",
       "       'DTA', 'INDICATION', 'INDICATION_REP', 'DISTRIBUTION', 'COMPARISON',\n",
       "       'RANDOMIZATION', 'INTERVENTIONAL_STUDY_MODEL', 'BLINDING',\n",
       "       'EXECUTING_PARTY', 'OUTSOURCED', 'TARGET_NUM_COUNTRIES', 'OBJECTIVE',\n",
       "       'STUDY_KEYWORDS', 'INCLUSION_CRITERIA', 'NUM_OF_DRAGS',\n",
       "       'DRUG_PRIMARY_NAME', 'DRUG_NAMES', 'THERAPEUTIC_CLASSES',\n",
       "       'WITHDRAWAL_RATIO', 'SCREENING_RATE', 'ENROLLMENT_RATE',\n",
       "       'SCREEN_FAIL_RATIO', 'NUM_ALL_AE', 'NUM_AE', 'NUM_SAE',\n",
       "       'SCREENING_SUCCESS_RATIO', 'SCREEN_FAIL_DECLINED_TO_PARTICIPATE',\n",
       "       'SCREEN_FAIL_INCLUSION', 'SCREEN_FAIL_EXCLUSION',\n",
       "       'WITHDRAWN_ADVERSE_EVENTS', 'WITHDRAWN_SUBJECTIVE',\n",
       "       'WITHDRAWN_NON_COMPLIANCE', 'WITHDRAWN_PROTOCOL_DEVIATIONS',\n",
       "       'WITHDRAWN_SAFETY', 'WITHDRAWN_OTHER_PRE_SPECIFIED', 'WITHDRAWN_OTHER',\n",
       "       'WITHDRAWN_ADVERSE_EVENTS_RATIO', 'WITHDRAWN_SUBJECTIVE_RATIO',\n",
       "       'WITHDRAWN_NON_COMPLIANCE_RATIO', 'WITHDRAWN_PROTOCOL_DEVIATIONS_RATIO',\n",
       "       'WITHDRAWN_SAFETY_RATIO', 'WITHDRAWN_OTHER_PRE_SPECIFIED_RATIO',\n",
       "       'WITHDRAWN_OTHER_RATIO'],\n",
       "      dtype='object')"
      ]
     },
     "execution_count": 27,
     "metadata": {},
     "output_type": "execute_result"
    }
   ],
   "source": [
    "subset.columns"
   ]
  },
  {
   "cell_type": "code",
   "execution_count": null,
   "metadata": {},
   "outputs": [],
   "source": []
  }
 ],
 "metadata": {
  "kernelspec": {
   "display_name": "Python 3",
   "language": "python",
   "name": "python3"
  },
  "language_info": {
   "codemirror_mode": {
    "name": "ipython",
    "version": 3
   },
   "file_extension": ".py",
   "mimetype": "text/x-python",
   "name": "python",
   "nbconvert_exporter": "python",
   "pygments_lexer": "ipython3",
   "version": "3.7.3"
  }
 },
 "nbformat": 4,
 "nbformat_minor": 2
}
