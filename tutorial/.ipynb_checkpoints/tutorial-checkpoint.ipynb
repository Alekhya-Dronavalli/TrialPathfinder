{
 "cells": [
  {
   "cell_type": "code",
   "execution_count": 48,
   "metadata": {},
   "outputs": [
    {
     "name": "stdout",
     "output_type": "stream",
     "text": [
      "The autoreload extension is already loaded. To reload it, use:\n",
      "  %reload_ext autoreload\n"
     ]
    }
   ],
   "source": [
    "%matplotlib inline\n",
    "%load_ext autoreload\n",
    "%autoreload 2\n",
    "\n",
    "import pandas as pd\n",
    "import numpy as np\n",
    "import matplotlib.pyplot as plt \n",
    "\n",
    "import TrialPathfinder as tp"
   ]
  },
  {
   "cell_type": "markdown",
   "metadata": {},
   "source": [
    "# Trial PathFinder"
   ]
  },
  {
   "cell_type": "markdown",
   "metadata": {},
   "source": [
    "## Load Data Tables\n",
    "\n",
    "TrialPathfinder reads tables in Pandas dataframe structure (pd.dataframe) as default. The date information should be read as datetime (use function pd.to_datetime to convert if not).\n",
    "\n",
    "**1. Features**:\n",
    "- <font color=darkblue>*Patient ID*</font>\n",
    "- Treatment Information\n",
    "    - <font color=darkblue>*Drug name*</font>.\n",
    "    - <font color=darkblue>*Start date*</font>.\n",
    "    - <font color=darkblue>*Date of outcome*</font>. For example, if overall survival (OS) is used as metric, the date of outcome is the date of death. If progression-free survival (PFS) is used as metric, the date of outcome is the date of progression.\n",
    "    - <font color=darkblue>*Date of last visit*</font>. The patient's last record date of visit, used for censoring.\n",
    "- <font color=darkblue>*Covariates (optional)*</font>: adjusted to emulate the blind assignment, used by Inverse probability of treatment weighting (IPTW) or propensity score matching (PSM). Some examples: age, gender, composite race/ethnicity, histology, smoking status, staging, ECOG, and biomarkers status.\n",
    "\n",
    "**2. Tables used by eligibility criteria.**\n",
    "- Use the same Patient ID as the features table.\n",
    "\n",
    "We provide a synthetic example data in directory [tutorial/data](https://github.com/RuishanLiu/TrialPathfinder/tree/master/tutorial/data). The features (*'features.csv'*) contain the required treatment information and four covariates (gender, race, ecog). Two tables (*'demographics.csv'* and *'lab.csv'*) are used by its eligibility criteria (*'criteria.csv'*)."
   ]
  },
  {
   "cell_type": "code",
   "execution_count": 182,
   "metadata": {},
   "outputs": [],
   "source": [
    "features = pd.read_csv('data/features.csv')\n",
    "demographics = pd.read_csv('data/demographics.csv')\n",
    "lab = pd.read_csv('data/lab.csv')\n",
    "indicator_miss = 'Missing'\n",
    "\n",
    "# Standardize missing annotation and Process date information to be datetime format.\n",
    "for table in [lab, features, demographics]:\n",
    "    for col in table.columns:\n",
    "        if 'Date' in col:\n",
    "            table[col] = pd.to_datetime(table[col])\n",
    "        table.loc[table[col].isna(), col] = indicator_miss"
   ]
  },
  {
   "cell_type": "code",
   "execution_count": 72,
   "metadata": {},
   "outputs": [
    {
     "data": {
      "text/html": [
       "<div>\n",
       "<style scoped>\n",
       "    .dataframe tbody tr th:only-of-type {\n",
       "        vertical-align: middle;\n",
       "    }\n",
       "\n",
       "    .dataframe tbody tr th {\n",
       "        vertical-align: top;\n",
       "    }\n",
       "\n",
       "    .dataframe thead th {\n",
       "        text-align: right;\n",
       "    }\n",
       "</style>\n",
       "<table border=\"1\" class=\"dataframe\">\n",
       "  <thead>\n",
       "    <tr style=\"text-align: right;\">\n",
       "      <th></th>\n",
       "      <th>PatientID</th>\n",
       "      <th>DrugName</th>\n",
       "      <th>StartDate</th>\n",
       "      <th>OutcomeDate</th>\n",
       "      <th>LastVisitDate</th>\n",
       "      <th>Gender</th>\n",
       "      <th>Race</th>\n",
       "      <th>ECOG</th>\n",
       "    </tr>\n",
       "  </thead>\n",
       "  <tbody>\n",
       "    <tr>\n",
       "      <th>0</th>\n",
       "      <td>679436</td>\n",
       "      <td>drug A</td>\n",
       "      <td>2017-01-25</td>\n",
       "      <td>2018-02-18</td>\n",
       "      <td>2018-05-29</td>\n",
       "      <td>F</td>\n",
       "      <td>Black</td>\n",
       "      <td>2</td>\n",
       "    </tr>\n",
       "    <tr>\n",
       "      <th>1</th>\n",
       "      <td>607096</td>\n",
       "      <td>drug B</td>\n",
       "      <td>2017-01-30</td>\n",
       "      <td>2018-12-17</td>\n",
       "      <td>2019-03-01</td>\n",
       "      <td>F</td>\n",
       "      <td>Black</td>\n",
       "      <td>1</td>\n",
       "    </tr>\n",
       "    <tr>\n",
       "      <th>2</th>\n",
       "      <td>690751</td>\n",
       "      <td>drug B</td>\n",
       "      <td>2017-04-22</td>\n",
       "      <td>2017-10-03</td>\n",
       "      <td>2017-10-12</td>\n",
       "      <td>M</td>\n",
       "      <td>White</td>\n",
       "      <td>1</td>\n",
       "    </tr>\n",
       "    <tr>\n",
       "      <th>3</th>\n",
       "      <td>887951</td>\n",
       "      <td>drug B</td>\n",
       "      <td>2015-04-20</td>\n",
       "      <td>2016-01-08</td>\n",
       "      <td>2016-06-28</td>\n",
       "      <td>M</td>\n",
       "      <td>White</td>\n",
       "      <td>2</td>\n",
       "    </tr>\n",
       "    <tr>\n",
       "      <th>4</th>\n",
       "      <td>667297</td>\n",
       "      <td>drug A</td>\n",
       "      <td>2018-08-06</td>\n",
       "      <td>Missing</td>\n",
       "      <td>2020-09-11</td>\n",
       "      <td>M</td>\n",
       "      <td>White</td>\n",
       "      <td>1</td>\n",
       "    </tr>\n",
       "  </tbody>\n",
       "</table>\n",
       "</div>"
      ],
      "text/plain": [
       "   PatientID DrugName  StartDate OutcomeDate LastVisitDate Gender   Race  ECOG\n",
       "0     679436   drug A 2017-01-25  2018-02-18    2018-05-29      F  Black     2\n",
       "1     607096   drug B 2017-01-30  2018-12-17    2019-03-01      F  Black     1\n",
       "2     690751   drug B 2017-04-22  2017-10-03    2017-10-12      M  White     1\n",
       "3     887951   drug B 2015-04-20  2016-01-08    2016-06-28      M  White     2\n",
       "4     667297   drug A 2018-08-06     Missing    2020-09-11      M  White     1"
      ]
     },
     "execution_count": 72,
     "metadata": {},
     "output_type": "execute_result"
    }
   ],
   "source": [
    "features.head()"
   ]
  },
  {
   "cell_type": "code",
   "execution_count": 7,
   "metadata": {},
   "outputs": [
    {
     "data": {
      "text/html": [
       "<div>\n",
       "<style scoped>\n",
       "    .dataframe tbody tr th:only-of-type {\n",
       "        vertical-align: middle;\n",
       "    }\n",
       "\n",
       "    .dataframe tbody tr th {\n",
       "        vertical-align: top;\n",
       "    }\n",
       "\n",
       "    .dataframe thead th {\n",
       "        text-align: right;\n",
       "    }\n",
       "</style>\n",
       "<table border=\"1\" class=\"dataframe\">\n",
       "  <thead>\n",
       "    <tr style=\"text-align: right;\">\n",
       "      <th></th>\n",
       "      <th>PatientID</th>\n",
       "      <th>ECOG</th>\n",
       "      <th>BirthDate</th>\n",
       "      <th>Histology</th>\n",
       "    </tr>\n",
       "  </thead>\n",
       "  <tbody>\n",
       "    <tr>\n",
       "      <th>0</th>\n",
       "      <td>679436</td>\n",
       "      <td>2</td>\n",
       "      <td>1984-02-03</td>\n",
       "      <td>Squamous cell carcinoma</td>\n",
       "    </tr>\n",
       "    <tr>\n",
       "      <th>1</th>\n",
       "      <td>607096</td>\n",
       "      <td>1</td>\n",
       "      <td>1999-02-04</td>\n",
       "      <td>Non-squamous cell carcinoma</td>\n",
       "    </tr>\n",
       "    <tr>\n",
       "      <th>2</th>\n",
       "      <td>690751</td>\n",
       "      <td>1</td>\n",
       "      <td>1979-05-02</td>\n",
       "      <td>Squamous cell carcinoma</td>\n",
       "    </tr>\n",
       "    <tr>\n",
       "      <th>3</th>\n",
       "      <td>887951</td>\n",
       "      <td>2</td>\n",
       "      <td>1955-05-05</td>\n",
       "      <td>Non-squamous cell carcinoma</td>\n",
       "    </tr>\n",
       "    <tr>\n",
       "      <th>4</th>\n",
       "      <td>667297</td>\n",
       "      <td>1</td>\n",
       "      <td>1953-08-22</td>\n",
       "      <td>Squamous cell carcinoma</td>\n",
       "    </tr>\n",
       "  </tbody>\n",
       "</table>\n",
       "</div>"
      ],
      "text/plain": [
       "   PatientID  ECOG  BirthDate                    Histology\n",
       "0     679436     2 1984-02-03      Squamous cell carcinoma\n",
       "1     607096     1 1999-02-04  Non-squamous cell carcinoma\n",
       "2     690751     1 1979-05-02      Squamous cell carcinoma\n",
       "3     887951     2 1955-05-05  Non-squamous cell carcinoma\n",
       "4     667297     1 1953-08-22      Squamous cell carcinoma"
      ]
     },
     "execution_count": 7,
     "metadata": {},
     "output_type": "execute_result"
    }
   ],
   "source": [
    "demographics.head()"
   ]
  },
  {
   "cell_type": "code",
   "execution_count": 5,
   "metadata": {},
   "outputs": [
    {
     "data": {
      "text/html": [
       "<div>\n",
       "<style scoped>\n",
       "    .dataframe tbody tr th:only-of-type {\n",
       "        vertical-align: middle;\n",
       "    }\n",
       "\n",
       "    .dataframe tbody tr th {\n",
       "        vertical-align: top;\n",
       "    }\n",
       "\n",
       "    .dataframe thead th {\n",
       "        text-align: right;\n",
       "    }\n",
       "</style>\n",
       "<table border=\"1\" class=\"dataframe\">\n",
       "  <thead>\n",
       "    <tr style=\"text-align: right;\">\n",
       "      <th></th>\n",
       "      <th>PatientID</th>\n",
       "      <th>LabName</th>\n",
       "      <th>LabValue</th>\n",
       "      <th>TestDate</th>\n",
       "    </tr>\n",
       "  </thead>\n",
       "  <tbody>\n",
       "    <tr>\n",
       "      <th>0</th>\n",
       "      <td>57562</td>\n",
       "      <td>Platelet count</td>\n",
       "      <td>88.00</td>\n",
       "      <td>2017-06-03</td>\n",
       "    </tr>\n",
       "    <tr>\n",
       "      <th>1</th>\n",
       "      <td>930338</td>\n",
       "      <td>Total bilirubin</td>\n",
       "      <td>0.86</td>\n",
       "      <td>2018-08-11</td>\n",
       "    </tr>\n",
       "    <tr>\n",
       "      <th>2</th>\n",
       "      <td>529505</td>\n",
       "      <td>Total bilirubin</td>\n",
       "      <td>1.97</td>\n",
       "      <td>2016-11-08</td>\n",
       "    </tr>\n",
       "    <tr>\n",
       "      <th>3</th>\n",
       "      <td>933296</td>\n",
       "      <td>Total bilirubin</td>\n",
       "      <td>0.91</td>\n",
       "      <td>2017-11-12</td>\n",
       "    </tr>\n",
       "    <tr>\n",
       "      <th>4</th>\n",
       "      <td>482470</td>\n",
       "      <td>Platelet count</td>\n",
       "      <td>132.00</td>\n",
       "      <td>2017-09-15</td>\n",
       "    </tr>\n",
       "  </tbody>\n",
       "</table>\n",
       "</div>"
      ],
      "text/plain": [
       "   PatientID          LabName  LabValue   TestDate\n",
       "0      57562   Platelet count     88.00 2017-06-03\n",
       "1     930338  Total bilirubin      0.86 2018-08-11\n",
       "2     529505  Total bilirubin      1.97 2016-11-08\n",
       "3     933296  Total bilirubin      0.91 2017-11-12\n",
       "4     482470   Platelet count    132.00 2017-09-15"
      ]
     },
     "execution_count": 5,
     "metadata": {},
     "output_type": "execute_result"
    }
   ],
   "source": [
    "lab.head()"
   ]
  },
  {
   "cell_type": "markdown",
   "metadata": {},
   "source": [
    "## Stadards of encoding eligibility criteria\n",
    "\n",
    "We built a computational workflow to encode the description of eligibility criteria in the protocols into standardized instructions which can be parsed by Trial Pathfinder for cohort selection use. \n",
    "\n",
    "**1. Basic logic.**\n",
    "\n",
    "- Name of the criteria is written in the first row.\n",
    "- A new statement starts with “#inclusion” or “#exclusion” to indicate the criterion’s type. Whether to include patients who have missing entries in the criteria: “(missing include)” or “(missing exclude)”. The default choice is including patients with missing entries. \n",
    "- Data name format: “Table[‘featurename’]”. For example, “demographics[‘birthdate’]” denotes column date of birth in table demographics.\n",
    "- Equation: ==, !=, <, <=, >, >=. \n",
    "- Logic: AND, OR.\n",
    "- Other operations: MIN, MAX, ABS.\n",
    "- Time is encoded as “DAYS(80)”: 80 days; “MONTHS(4)”: 4 months; “YEARS(3)”: 3 years.\n",
    "\n",
    "---\n",
    "*Example: criteria \"Age\" - include patients more than 18 years old when they received the treatment.*\n",
    "\n",
    "> Age \\\n",
    "\\#Inclusion \\\n",
    "features['StartDate'] >= demographics['BirthDate'] + @YEARS(18)\n",
    "\n",
    "---\n",
    "\n",
    "**2. Complex rule with hierachy.**\n",
    "- Each row is operated in sequential order\n",
    "    - The tables are prepared before the last row. \n",
    "    - The patients are selected at the last row. \n",
    "\n",
    "---\n",
    "*Example: criteria \"Platelets\" - include patients whose platelet count ≥ 100 x 10^3/μL*. \\\n",
    "To encode this criterion, we follow the procedure: \n",
    "1. Prepare the lab table: \n",
    "    1. Pick the lab tests for platelet count\n",
    "    2. The lab test date should be within a -28 to +0 window around the treatment start date\n",
    "    3. Use the record closest to the treatment start date to do selection.\n",
    "2. Select patients: lab value larger than 100 x 10^3/μL.\n",
    "> Platelets \\\n",
    "\\#Inclusion \\\n",
    "(lab['LabName'] == 'Platelet count') \\\n",
    "(lab['TestDate'] >= features['StartDate'] - @DAYS(28) ) AND (lab['TestDate'] <= features['StartDate']) \\\n",
    "MIN(ABS(lab['TestDate'] - features['StartDate'])) \\\n",
    "(lab['LabValue'] >= 100)\n",
    "---\n",
    "\n",
    "Here we load the example criteria 'criteria.csv' under directory [tutorial/data](https://github.com/RuishanLiu/TrialPathfinder/tree/master/tutorial/data). \n"
   ]
  },
  {
   "cell_type": "code",
   "execution_count": 3,
   "metadata": {},
   "outputs": [
    {
     "name": "stdout",
     "output_type": "stream",
     "text": [
      "Age\n",
      "#Inclusion\n",
      "features['StartDate'] >= demographics['BirthDate'] + @YEARS(18)\n",
      "\n",
      "Histology_Squamous\n",
      "#Inclusion\n",
      "(demographics['Histology'] == 'Squamous cell carcinoma')\n",
      "\n",
      "ECOG\n",
      "#Inclusion\n",
      "(features['ECOG'] == 0) OR (features['ECOG'] == 1)\n",
      "\n",
      "Platelets\n",
      "#Inclusion\n",
      "(lab['LabName'] == 'Platelet count')\n",
      "(lab['TestDate'] >= features['StartDate'] - @DAYS(28) ) AND (lab['TestDate'] <= features['StartDate'])\n",
      "MIN(ABS(lab['TestDate'] - features['StartDate']))\n",
      "lab['LabValue'] >= 100\n",
      "\n",
      "Bilirubin\n",
      "#Inclusion\n",
      "(lab['LabName'] == 'Total bilirubin')\n",
      "(lab['TestDate'] >= features['StartDate'] - @DAYS(28) ) AND (lab['TestDate'] <= features['StartDate'])\n",
      "MIN(ABS(lab['TestDate'] - features['StartDate']))\n",
      "lab['LabValue'] <= 1\n"
     ]
    }
   ],
   "source": [
    "criteria = pd.read_csv('data/criteria.csv', header=None).values.reshape(-1)\n",
    "print(*criteria, sep='\\n\\n')"
   ]
  },
  {
   "cell_type": "markdown",
   "metadata": {},
   "source": [
    "## Preparation\n",
    "\n",
    "Before simulating real trials, we first encode all the eligibility criteria --- load pseudo-code, input to the algorithm and figure out which patient is excluded by each rule."
   ]
  },
  {
   "cell_type": "markdown",
   "metadata": {},
   "source": [
    "1. Create an empty cohort object \n",
    "    - tp.cohort_selection() requires all the patients ids used in the study."
   ]
  },
  {
   "cell_type": "code",
   "execution_count": 4,
   "metadata": {},
   "outputs": [],
   "source": [
    "patientids = features['PatientID']\n",
    "cohort = tp.cohort_selection(patientids, name_PatientID='PatientID')"
   ]
  },
  {
   "cell_type": "markdown",
   "metadata": {},
   "source": [
    "2. Add the tables needed in the eligibility criterion."
   ]
  },
  {
   "cell_type": "code",
   "execution_count": 5,
   "metadata": {},
   "outputs": [],
   "source": [
    "cohort.add_table('demographics', demographics)\n",
    "cohort.add_table('lab', lab)\n",
    "cohort.add_table('features', features)"
   ]
  },
  {
   "cell_type": "markdown",
   "metadata": {},
   "source": [
    "3. Add individual eligibility criterion"
   ]
  },
  {
   "cell_type": "code",
   "execution_count": 6,
   "metadata": {},
   "outputs": [
    {
     "name": "stdout",
     "output_type": "stream",
     "text": [
      "Rule Age: exclude patients 0/4000\n",
      "Rule Histology_Squamous: exclude patients 2020/4000\n",
      "Rule ECOG: exclude patients 1797/4000\n",
      "Rule Platelets: exclude patients 1943/4000\n",
      "Rule Bilirubin: exclude patients 2316/4000\n"
     ]
    }
   ],
   "source": [
    "# Option 1: add rules individually\n",
    "for rule in criteria[:]:\n",
    "    name_rule, select, missing = cohort.add_rule(rule)\n",
    "    print('Rule %s: exclude patients %d/%d' % (name_rule, select.shape[0]-np.sum(select), select.shape[0]))\n",
    "    \n",
    "# # Option 2: add the list of criteria\n",
    "# cohort.add_rules(criteria)"
   ]
  },
  {
   "cell_type": "markdown",
   "metadata": {},
   "source": [
    "# Analysis\n",
    "\n",
    "- Treatment drug: B\n",
    "- Control drug: A\n",
    "- Criteria used: Age, ECOG, Histology_Squamous, Platelets, Bilirubin"
   ]
  },
  {
   "cell_type": "code",
   "execution_count": 183,
   "metadata": {},
   "outputs": [],
   "source": [
    "drug_treatment = ['drug B']\n",
    "drug_control = ['drug A', 'drug C']\n",
    "name_rules = ['Age', 'Histology_Squamous', 'ECOG', 'Platelets', 'Bilirubin']\n",
    "covariates_cat = ['Gender', 'Race', 'ECOG'] # categorical covariates\n",
    "covariates_cont = [] # continuos covariates\n"
   ]
  },
  {
   "cell_type": "markdown",
   "metadata": {},
   "source": [
    "1. Original trial crieria\n",
    "    - Criteria includes Age, ECOG, Histology_Squamous, Platelets, Bilirubin."
   ]
  },
  {
   "cell_type": "code",
   "execution_count": 184,
   "metadata": {},
   "outputs": [
    {
     "name": "stdout",
     "output_type": "stream",
     "text": [
      "Hazard Ratio: 0.63 (0.41-0.96)\n",
      "Number of Patients: 223\n"
     ]
    }
   ],
   "source": [
    "HR, CI, data_cox = tp.emulate_trials(cohort, features, drug_treatment, drug_control, name_rules, \n",
    "                                       covariates_cat=covariates_cat, covariates_cont=covariates_cont, \n",
    "                                       name_DrugName='DrugName', name_StartDate='StartDate', \n",
    "                                       name_OutcomeDate='OutcomeDate', name_LastVisitDate='LastVisitDate',\n",
    "                                       indicator_miss=indicator_miss)\n",
    "print('Hazard Ratio: %.2f (%.2f-%.2f)' % (HR, CI[0], CI[1]))\n",
    "print('Number of Patients: %d' % (data_cox.shape[0]))"
   ]
  },
  {
   "cell_type": "markdown",
   "metadata": {},
   "source": [
    "2. Fully-relaxed criteria\n",
    "    - No rule applied (name_rules=[])."
   ]
  },
  {
   "cell_type": "code",
   "execution_count": 185,
   "metadata": {},
   "outputs": [
    {
     "name": "stdout",
     "output_type": "stream",
     "text": [
      "Hazard Ratio: 0.77 (0.71-0.84)\n",
      "Number of Patients: 4000\n"
     ]
    }
   ],
   "source": [
    "HR, CI, data_cox = tp.emulate_trials(cohort, features, drug_treatment, drug_control, [], \n",
    "                                       covariates_cat=covariates_cat, covariates_cont=covariates_cont, \n",
    "                                       name_DrugName='DrugName', name_StartDate='StartDate', \n",
    "                                       name_OutcomeDate='OutcomeDate', name_LastVisitDate='LastVisitDate',\n",
    "                                       indicator_miss=indicator_miss)\n",
    "print('Hazard Ratio: %.2f (%.2f-%.2f)' % (HR, CI[0], CI[1]))\n",
    "print('Number of Patients: %d' % (data_cox.shape[0]))"
   ]
  },
  {
   "cell_type": "markdown",
   "metadata": {},
   "source": [
    "3. Compute shapley values"
   ]
  },
  {
   "cell_type": "code",
   "execution_count": 186,
   "metadata": {},
   "outputs": [
    {
     "name": "stdout",
     "output_type": "stream",
     "text": [
      "Shapley Computation Iteration 0 | SEM = 0.0000\n",
      "Shapley Computation Iteration 1 | SEM = 0.0223\n",
      "Shapley Computation Iteration 2 | SEM = 0.0172\n",
      "Shapley Computation Iteration 3 | SEM = 0.0146\n",
      "Shapley Computation Iteration 4 | SEM = 0.0131\n",
      "Shapley Computation Iteration 5 | SEM = 0.0117\n",
      "Shapley Computation Iteration 6 | SEM = 0.0109\n",
      "Shapley Computation Iteration 7 | SEM = 0.0099\n",
      "Stopping criteria satisfied!\n"
     ]
    }
   ],
   "source": [
    "shapley_values = tp.shapley_computation(cohort, features, drug_treatment, drug_control, name_rules,\n",
    "                                        tolerance=0.01, iter_max=1000,\n",
    "                                        covariates_cat=covariates_cat, covariates_cont=covariates_cont, \n",
    "                                        name_DrugName='DrugName', name_StartDate='StartDate', \n",
    "                                        name_OutcomeDate='OutcomeDate', name_LastVisitDate='LastVisitDate',\n",
    "                                        indicator_miss=indicator_miss, \n",
    "                                        random_seed=1001, verbose=1)"
   ]
  },
  {
   "cell_type": "code",
   "execution_count": 187,
   "metadata": {},
   "outputs": [
    {
     "data": {
      "text/html": [
       "<div>\n",
       "<style scoped>\n",
       "    .dataframe tbody tr th:only-of-type {\n",
       "        vertical-align: middle;\n",
       "    }\n",
       "\n",
       "    .dataframe tbody tr th {\n",
       "        vertical-align: top;\n",
       "    }\n",
       "\n",
       "    .dataframe thead th {\n",
       "        text-align: right;\n",
       "    }\n",
       "</style>\n",
       "<table border=\"1\" class=\"dataframe\">\n",
       "  <thead>\n",
       "    <tr style=\"text-align: right;\">\n",
       "      <th></th>\n",
       "      <th>Age</th>\n",
       "      <th>Histology_Squamous</th>\n",
       "      <th>ECOG</th>\n",
       "      <th>Platelets</th>\n",
       "      <th>Bilirubin</th>\n",
       "    </tr>\n",
       "  </thead>\n",
       "  <tbody>\n",
       "    <tr>\n",
       "      <th>Shapley Value</th>\n",
       "      <td>0.0</td>\n",
       "      <td>0.034836</td>\n",
       "      <td>-0.103662</td>\n",
       "      <td>0.009511</td>\n",
       "      <td>-0.08697</td>\n",
       "    </tr>\n",
       "  </tbody>\n",
       "</table>\n",
       "</div>"
      ],
      "text/plain": [
       "               Age  Histology_Squamous      ECOG  Platelets  Bilirubin\n",
       "Shapley Value  0.0            0.034836 -0.103662   0.009511   -0.08697"
      ]
     },
     "execution_count": 187,
     "metadata": {},
     "output_type": "execute_result"
    }
   ],
   "source": [
    "pd.DataFrame([shapley_values], columns=name_rules, index=['Shapley Value'])"
   ]
  },
  {
   "cell_type": "markdown",
   "metadata": {},
   "source": [
    "4. Data-driven criteria"
   ]
  },
  {
   "cell_type": "code",
   "execution_count": 188,
   "metadata": {},
   "outputs": [
    {
     "name": "stdout",
     "output_type": "stream",
     "text": [
      "Hazard Ratio: 0.67 (0.57-0.80)\n",
      "Number of Patients: 1053\n"
     ]
    }
   ],
   "source": [
    "name_rules_relax = np.array(name_rules)[shapley_values < 0]\n",
    "HR, CI, data_cox = tp.emulate_trials(cohort, features, drug_treatment, drug_control, name_rules_relax, \n",
    "                                       covariates_cat=covariates_cat, covariates_cont=covariates_cont, \n",
    "                                       name_DrugName='DrugName', name_StartDate='StartDate', \n",
    "                                       name_OutcomeDate='OutcomeDate', name_LastVisitDate='LastVisitDate',\n",
    "                                       indicator_miss=indicator_miss)\n",
    "print('Hazard Ratio: %.2f (%.2f-%.2f)' % (HR, CI[0], CI[1]))\n",
    "print('Number of Patients: %d' % (data_cox.shape[0]))"
   ]
  },
  {
   "cell_type": "code",
   "execution_count": null,
   "metadata": {
    "scrolled": true
   },
   "outputs": [],
   "source": []
  }
 ],
 "metadata": {
  "kernelspec": {
   "display_name": "Python 3",
   "language": "python",
   "name": "python3"
  },
  "language_info": {
   "codemirror_mode": {
    "name": "ipython",
    "version": 3
   },
   "file_extension": ".py",
   "mimetype": "text/x-python",
   "name": "python",
   "nbconvert_exporter": "python",
   "pygments_lexer": "ipython3",
   "version": "3.6.10"
  }
 },
 "nbformat": 4,
 "nbformat_minor": 4
}
