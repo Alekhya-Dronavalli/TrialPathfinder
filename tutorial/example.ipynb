{
 "cells": [
  {
   "cell_type": "code",
   "execution_count": 1,
   "metadata": {},
   "outputs": [],
   "source": [
    "import pandas as pd\n",
    "\n",
    "# from TrialPathfinder import cohort_selection, emulate_trials, survival_analysis, shapley_computation"
   ]
  },
  {
   "cell_type": "markdown",
   "metadata": {},
   "source": [
    "# Load Data"
   ]
  },
  {
   "cell_type": "markdown",
   "metadata": {},
   "source": [
    "Tables\n",
    "\n",
    "**1. Necessary Features**:\n",
    "- <font color=darkblue>*Patient ID*</font>\n",
    "- <font color=darkblue>*Covariates*</font>: adjusted to emulate the blind assignment, used by Inverse probability of treatment weighting (IPTW) or propensity score matching (PSM). Some examples: age, gender, composite race/ethnicity, histology, smoking status, staging, ECOG, and biomarkers status. If no co\n",
    "- Treatment Information\n",
    "    - <font color=darkblue>*Drug name*</font>.\n",
    "    - <font color=darkblue>*Start date*</font>.\n",
    "    - <font color=darkblue>*Date of outcome*</font>. For example, if overall survival (OS) is used as metric, the date of outcome is the date of death. If progression-free survival (PFS) is used as metric, the date of outcome is the date of progression.\n",
    "    - <font color=darkblue>*Date of last visit*</font>. The patient's last record date of visit, used for censoring.\n",
    "\n"
   ]
  },
  {
   "cell_type": "markdown",
   "metadata": {},
   "source": [
    "### Synthetic Data as an example"
   ]
  },
  {
   "cell_type": "markdown",
   "metadata": {},
   "source": [
    "Tables\n",
    "\n",
    "**1. Features**:\n",
    "- demographics\n",
    "- biomarker status"
   ]
  },
  {
   "cell_type": "code",
   "execution_count": null,
   "metadata": {},
   "outputs": [],
   "source": []
  },
  {
   "cell_type": "code",
   "execution_count": null,
   "metadata": {},
   "outputs": [],
   "source": []
  },
  {
   "cell_type": "code",
   "execution_count": null,
   "metadata": {},
   "outputs": [],
   "source": []
  },
  {
   "cell_type": "code",
   "execution_count": null,
   "metadata": {},
   "outputs": [],
   "source": [
    "###### Encode Eligibility Criteria #####\n",
    "\n",
    "# Create cohort selection object\n",
    "cohort = cohort_selection(patientids, name_patientid='patientid')\n",
    "# Add the data tables needed in the eligibility criterion\n",
    "cohort.add_table(name_table1, table1)\n",
    "# Add individual eligibility criterion\n",
    "cohort.add_rule(rule1)\n",
    "\n",
    "###### Emulate Existing Trials ######\n",
    "\n",
    "# Given a combination of eligibility rules names_rules (an empty list [] indicates fully-relaxed criteria), process patients features for survival analysis (features is pandas Dataframe by default).\n",
    "data_survival = emulate_trials(cohort, features, names_rules)\n",
    "\n",
    "###### Survival Analysis ######\n",
    "\n",
    "HR, confidence_interval, p_value = survival_analysis(data_survival)\n",
    "\n",
    "###### Evalute Individual Criterion ######\n",
    "\n",
    "# Return the Shapley values for each rule in names_rules\n",
    "shapley_values = shapley_computation(cohort, features, drug_treatment, drug_control, names_rules)\n",
    "\n",
    "###### Criteria Relaxation - Data-driven Criteria ######\n",
    "\n",
    "# Select all the rules with Shapley value less than -0.01\n",
    "names_rules_relax = names_rules[shapley_values<-0.01]\n",
    "# Survival analysis on the data-driven criteria\n",
    "data_survival_relax = emulate_trials(cohort, features, drug_treatment, drug_control, names_rules_relax)\n",
    "HR, confidence_interval, p_value = survival_analysis(data_survival_relax)"
   ]
  }
 ],
 "metadata": {
  "kernelspec": {
   "display_name": "Python 3",
   "language": "python",
   "name": "python3"
  },
  "language_info": {
   "codemirror_mode": {
    "name": "ipython",
    "version": 3
   },
   "file_extension": ".py",
   "mimetype": "text/x-python",
   "name": "python",
   "nbconvert_exporter": "python",
   "pygments_lexer": "ipython3",
   "version": "3.6.10"
  }
 },
 "nbformat": 4,
 "nbformat_minor": 4
}
